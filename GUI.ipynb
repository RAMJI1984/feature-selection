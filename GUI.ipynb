{
 "cells": [
  {
   "cell_type": "code",
   "execution_count": 1,
   "id": "e379d72d",
   "metadata": {},
   "outputs": [],
   "source": [
    "from tkinter import *\n",
    "from PIL import Image, ImageTk\n",
    "import numpy as np\n",
    "import pandas as pd"
   ]
  },
  {
   "cell_type": "code",
   "execution_count": 2,
   "id": "7a311bdc",
   "metadata": {},
   "outputs": [],
   "source": [
    "# Function of what happens when you press btn1\n",
    "def btn1Action():\n",
    "    # get data from txtfiled1\n",
    "    global res_label\n",
    "    global L3\n",
    "    L3.pack_forget()\n",
    "    L3.pack()\n",
    "    res_label.pack_forget()\n",
    "    e1_data  =  \"hi\"\n",
    "    title = e1_data.title()\n",
    "    res_label = Label(frame2,  text = title)\n",
    "    res_label.pack()\n",
    "    create_testframe()"
   ]
  },
  {
   "cell_type": "code",
   "execution_count": 4,
   "id": "1df918ea",
   "metadata": {},
   "outputs": [],
   "source": [
    "def create_testframe():    \n",
    "#     global L4\n",
    "#     L4.grid_forget()\n",
    "#     L4.grid(row = 0)\n",
    "    F1, F2, T1, T2 = [],[],[],[]\n",
    "    for i in range(0,4):\n",
    "        F1.append(Label(frame3, text = f\"Feature {i+1}: \"))\n",
    "        F1[i].grid_forget()\n",
    "        F1[i].grid(row = i, column = 0)\n",
    "        F2.append(Label(frame3, text = f\"Feature {i+2}: \"))\n",
    "        F2[i].grid_forget()\n",
    "        F2[i].grid(row = i, column = 4 )\n",
    "        T1.append(Entry(frame3))\n",
    "        T1[i].grid_forget()\n",
    "        T1[i].grid(row = i, column = 2, padx =5, pady=5)\n",
    "        T2.append(Entry(frame3))\n",
    "        T2[i].grid_forget()\n",
    "        T2[i].grid(row = i, column = 5, padx =5, pady=5)\n",
    "    btn2 = Button(frame3 , text = 'Submit', command = test_result, padx = 20, pady =10)\n",
    "    btn2.grid_forget()\n",
    "    btn2.grid(row =4, column=3,padx = 30, pady= 20)\n",
    "    \n",
    "    \n",
    "    "
   ]
  },
  {
   "cell_type": "code",
   "execution_count": 3,
   "id": "fcc20560",
   "metadata": {},
   "outputs": [],
   "source": [
    "def test_result():\n",
    "    global pred_label\n",
    "    pred_label = Label(frame3, text = \"Predicted Attack: Normal\")\n",
    "    pred_label.grid_forget()\n",
    "    pred_label.grid(row = 5, column = 3)"
   ]
  },
  {
   "cell_type": "code",
   "execution_count": null,
   "id": "37655370",
   "metadata": {},
   "outputs": [],
   "source": []
  },
  {
   "cell_type": "code",
   "execution_count": null,
   "id": "fc5ba7b4",
   "metadata": {},
   "outputs": [],
   "source": []
  },
  {
   "cell_type": "code",
   "execution_count": 9,
   "id": "33a0282d",
   "metadata": {},
   "outputs": [],
   "source": [
    "root = Tk()\n",
    "root.title('Gray Wolf Optimizer')\n",
    "root.minsize(755,555)\n",
    "# root.iconbitmap(\"path_to_icon\")\n",
    "\n",
    "frame1 = LabelFrame(root, text = \"Initialization \", padx= 50, pady=20)\n",
    "frame1.pack(pady = 10)\n",
    "# Create Label\n",
    "L1 = Label(frame1, text = \"Intrusion Detection System using GWO\")\n",
    "# L1.grid(row = 1, column = 0)\n",
    "L1.pack()\n",
    "L2 = Label(frame1, text = \"Enter Number of runs: \")\n",
    "L2.pack()\n",
    "\n",
    "\n",
    "# Create Text Filed\n",
    "E1 = Entry(frame1)\n",
    "# E1.grid(row = 1, column = 1)\n",
    "E1.pack( pady = 10)\n",
    "E1.insert(0, \"0\")\n",
    "\n",
    "# # Create image\n",
    "# filename = \"my_pic.jpg\"\n",
    "# im = Image.open(filename)\n",
    "# ph = ImageTk.PhotoImage(im)\n",
    "# image = Label(root, image=ph)\n",
    "# image.image=ph\n",
    "# #  image.grid(row = 0, column = 0)\n",
    "# image.pack()\n",
    "\n",
    "\n",
    "# Create Button\n",
    "btn1 = Button(frame1 , text = 'Generate', command = btn1Action, padx = 10, pady =10)\n",
    "# btn1.grid(row = 1, column = 2)\n",
    "btn1.pack(pady = 10 )\n",
    "\n",
    "frame2 = LabelFrame(root, text = \"Results \", padx = 50,pady = 10)\n",
    "frame2.pack(pady = 10)\n",
    "L3 = Label(frame2, text = \"HERE IS THE RESULTS\")\n",
    "e1_data  =  E1.get()\n",
    "title = e1_data.title()\n",
    "\n",
    "res_label = Label(frame2,  text = title)\n",
    "\n",
    "frame3 = LabelFrame(root, text = \"Test The IDS \", padx = 50,pady = 10)\n",
    "frame3.pack(pady = 10)\n",
    "# L4 = Label(frame3, text = \"The IDS model using GWO-SVM\")\n",
    "\n",
    "\n",
    "\n",
    "\n",
    "\n",
    "# Run The GUI\n",
    "root.mainloop()"
   ]
  },
  {
   "cell_type": "code",
   "execution_count": 1,
   "id": "333aaf36",
   "metadata": {},
   "outputs": [],
   "source": [
    "# # Create image\n",
    "# filename = \"my_pic.jpg\"\n",
    "# im = Image.open(filename)\n",
    "# ph = ImageTk.PhotoImage(im)\n",
    "# image = Label(root, image=ph)\n",
    "# image.image=ph\n",
    "# #  image.grid(row = 0, column = 0)\n",
    "# image.pack()\n"
   ]
  },
  {
   "cell_type": "code",
   "execution_count": null,
   "id": "c97c4c04",
   "metadata": {},
   "outputs": [],
   "source": []
  }
 ],
 "metadata": {
  "kernelspec": {
   "display_name": "Python 3 (ipykernel)",
   "language": "python",
   "name": "python3"
  },
  "language_info": {
   "codemirror_mode": {
    "name": "ipython",
    "version": 3
   },
   "file_extension": ".py",
   "mimetype": "text/x-python",
   "name": "python",
   "nbconvert_exporter": "python",
   "pygments_lexer": "ipython3",
   "version": "3.8.5"
  }
 },
 "nbformat": 4,
 "nbformat_minor": 5
}
