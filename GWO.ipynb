{
 "cells": [
  {
   "cell_type": "code",
   "execution_count": 1,
   "id": "a2666819",
   "metadata": {},
   "outputs": [],
   "source": [
    "import numpy as np\n",
    "import pandas as pd\n",
    "import random\n",
    "import math \n",
    "import copy \n",
    "import sys"
   ]
  },
  {
   "cell_type": "code",
   "execution_count": 2,
   "id": "13390b9e",
   "metadata": {},
   "outputs": [],
   "source": [
    "class wolf:\n",
    "    def __init__(self, fitness, dim,seed, lb, ub):\n",
    "        self.features = [0 for i in range(dim)]\n",
    "        self.rand = random.Random(seed)\n",
    "        self.position = [0.0 for i in range(dim)]\n",
    "        for i in range(dim):\n",
    "            self.position[i] = ((ub - lb) * self.rand.random() + lb)\n",
    "        self.fitness = np.NINF"
   ]
  },
  {
   "cell_type": "code",
   "execution_count": 3,
   "id": "8f98405f",
   "metadata": {},
   "outputs": [],
   "source": [
    "# rastrigin function\n",
    "def fitness_rastrigin(position):\n",
    "    fitness_value = 0.0\n",
    "    for i in range(len(position)):\n",
    "        xi = position[i]\n",
    "        fitness_value += (xi * xi) - (10 * math.cos(2 * math.pi * xi)) + 10\n",
    "    return fitness_value"
   ]
  },
  {
   "cell_type": "code",
   "execution_count": 4,
   "id": "9d3c6d11",
   "metadata": {},
   "outputs": [],
   "source": [
    "#sphere function\n",
    "def fitness_sphere(position):\n",
    "    fitness_value = 0.0\n",
    "    for i in range(len(position)):\n",
    "        xi = position[i]\n",
    "        fitness_value += (xi*xi)\n",
    "    return fitness_value"
   ]
  },
  {
   "cell_type": "code",
   "execution_count": 5,
   "id": "28dd7711",
   "metadata": {},
   "outputs": [],
   "source": [
    "def stepc(A, Di):\n",
    "    try:\n",
    "        c = 1/(1+ math.exp(10*(A*Di-0.5)))\n",
    "    except Exception as e:\n",
    "        return 1\n",
    "    else:\n",
    "        return c"
   ]
  },
  {
   "cell_type": "code",
   "execution_count": 6,
   "id": "a0bcc23c",
   "metadata": {},
   "outputs": [],
   "source": [
    "def stepb(A, Di, r):\n",
    "    if stepc(A,Di) >= r:\n",
    "        return 1\n",
    "    else:\n",
    "        return 0"
   ]
  },
  {
   "cell_type": "code",
   "execution_count": 7,
   "id": "d4a07737",
   "metadata": {},
   "outputs": [],
   "source": [
    "def X_d(X, A, Di, rand):\n",
    "    r = rand.random()\n",
    "    if (X + stepb(A, Di, r)) >= 1:\n",
    "        return 1\n",
    "    else:\n",
    "        return 0"
   ]
  },
  {
   "cell_type": "code",
   "execution_count": 8,
   "id": "2751037c",
   "metadata": {},
   "outputs": [],
   "source": [
    "def cross_over(X_d1, X_d2, X_d3, rand):\n",
    "    r = rand.random()\n",
    "    if r < 1/3:\n",
    "        return X_d1\n",
    "    elif r >= 1/3 and r < 2/3:\n",
    "        return X_d2\n",
    "    else:\n",
    "        return X_d3"
   ]
  },
  {
   "cell_type": "code",
   "execution_count": 9,
   "id": "24ac8ec6",
   "metadata": {},
   "outputs": [],
   "source": [
    "def GWO(X, fitness, D, N, max_iter, lb, ub):\n",
    "    rand = random.Random()\n",
    "    population = [ wolf(X, fitness, D, i, lb, ub) for i in range(N)]\n",
    "    population = sorted(population, key = lambda x : x.fitness)\n",
    "    alpha_wolf, beta_wolf, gamma_wolf = copy.copy(population[:3])\n",
    "\n",
    "    iteration = 0\n",
    "    while iteration<max_iter:                  \n",
    "        b = 2*(1 - iteration/max_iter)\n",
    "\n",
    "        for i in range(N):    \n",
    "            \n",
    "            A1, A2, A3 = b * (2 * rand.random() - 1), b * (\n",
    "                2 * rand.random() - 1), b * (2 * rand.random() - 1)\n",
    "            C1, C2, C3 = 2*rand.random(), 2*rand.random(), 2*rand.random()\n",
    "            \n",
    "            X1 = [0.0 for i in range(D)]\n",
    "            X2 = [0.0 for i in range(D)]\n",
    "            X3 = [0.0 for i in range(D)]\n",
    "            Xnew = [0.0 for i in range(D)]\n",
    "            \n",
    "            X_d1 = [0.0 for i in range(D)]\n",
    "            X_d2 = [0.0 for i in range(D)]\n",
    "            X_d3 = [0.0 for i in range(D)]\n",
    "            X_dnew = [0.0 for i in range(D)]\n",
    "\n",
    "            for j in range(D):\n",
    "                \n",
    "                D_alpha = abs(C1 * alpha_wolf.position[j] - population[i].position[j])\n",
    "                D_beta = abs(C2 *  beta_wolf.position[j] - population[i].position[j])\n",
    "                D_gamma = abs(C3 * gamma_wolf.position[j] - population[i].position[j])\n",
    "                \n",
    "                X1[j] = alpha_wolf.position[j] - A1 * D_alpha\n",
    "                X2[j] = beta_wolf.position[j] - A2 * D_beta\n",
    "                X3[j] = gamma_wolf.position[j] - A3 * D_gamma\n",
    "                Xnew[j] = (X1[j] + X2[j] + X3[j]) /3.0  \n",
    "                \n",
    "                X_d1[j] = X_d(X1[j], A1, D_alpha, rand)\n",
    "                X_d2[j] = X_d(X2[j], A2, D_beta, rand)\n",
    "                X_d3[j] = X_d(X3[j], A3, D_gamma, rand)\n",
    "                X_dnew[j] = cross_over(X_d1[j], X_d2[j], X_d3[j], rand) \n",
    "            \n",
    "  \n",
    "            fnew = fitness(Xnew)\n",
    "            if fnew > population[i].fitness:\n",
    "                population[i].position = Xnew\n",
    "                population[i].fitness = fnew\n",
    "                population[i].features = X_dnew\n",
    " \n",
    "                 \n",
    "        population = sorted(population, key = lambda x: x.fitness)\n",
    "        alpha_wolf, beta_wolf, gamma_wolf = copy.copy(population[:3])\n",
    "        iteration+=1\n",
    "        \n",
    "    print(\"Iteration = {} best fitness = {} \".format(str(iteration), alpha_wolf.fitness))\n",
    "    return alpha_wolf.features"
   ]
  }
 ],
 "metadata": {
  "kernelspec": {
   "display_name": "Python 3 (ipykernel)",
   "language": "python",
   "name": "python3"
  },
  "language_info": {
   "codemirror_mode": {
    "name": "ipython",
    "version": 3
   },
   "file_extension": ".py",
   "mimetype": "text/x-python",
   "name": "python",
   "nbconvert_exporter": "python",
   "pygments_lexer": "ipython3",
   "version": "3.8.5"
  }
 },
 "nbformat": 4,
 "nbformat_minor": 5
}
