{
 "cells": [
  {
   "cell_type": "code",
   "execution_count": 1,
   "id": "d2230ada",
   "metadata": {},
   "outputs": [],
   "source": [
    "import numpy as np\n",
    "import pandas as pd\n",
    "import matplotlib.pyplot as plt\n",
    "import random\n",
    "import math \n",
    "import copy \n",
    "import sys\n",
    "from tkinter import *\n",
    "from tkinter import ttk\n",
    "from PIL import Image, ImageTk\n",
    "\n",
    "%matplotlib inline "
   ]
  },
  {
   "cell_type": "code",
   "execution_count": 2,
   "id": "0aa8d110",
   "metadata": {},
   "outputs": [
    {
     "data": {
      "text/html": [
       "<div>\n",
       "<style scoped>\n",
       "    .dataframe tbody tr th:only-of-type {\n",
       "        vertical-align: middle;\n",
       "    }\n",
       "\n",
       "    .dataframe tbody tr th {\n",
       "        vertical-align: top;\n",
       "    }\n",
       "\n",
       "    .dataframe thead th {\n",
       "        text-align: right;\n",
       "    }\n",
       "</style>\n",
       "<table border=\"1\" class=\"dataframe\">\n",
       "  <thead>\n",
       "    <tr style=\"text-align: right;\">\n",
       "      <th></th>\n",
       "      <th>duration</th>\n",
       "      <th>protocol_type</th>\n",
       "      <th>service</th>\n",
       "      <th>flag</th>\n",
       "      <th>src_bytes</th>\n",
       "      <th>dst_bytes</th>\n",
       "      <th>land</th>\n",
       "      <th>wrong_fragment</th>\n",
       "      <th>urgent</th>\n",
       "      <th>hot</th>\n",
       "      <th>...</th>\n",
       "      <th>dst_host_srv_count</th>\n",
       "      <th>dst_host_same_srv_rate</th>\n",
       "      <th>dst_host_diff_srv_rate</th>\n",
       "      <th>dst_host_same_src_port_rate</th>\n",
       "      <th>dst_host_srv_diff_host_rate</th>\n",
       "      <th>dst_host_serror_rate</th>\n",
       "      <th>dst_host_srv_serror_rate</th>\n",
       "      <th>dst_host_rerror_rate</th>\n",
       "      <th>dst_host_srv_rerror_rate</th>\n",
       "      <th>classification.</th>\n",
       "    </tr>\n",
       "  </thead>\n",
       "  <tbody>\n",
       "    <tr>\n",
       "      <th>0</th>\n",
       "      <td>0</td>\n",
       "      <td>tcp</td>\n",
       "      <td>ftp_data</td>\n",
       "      <td>SF</td>\n",
       "      <td>491</td>\n",
       "      <td>0</td>\n",
       "      <td>0</td>\n",
       "      <td>0</td>\n",
       "      <td>0</td>\n",
       "      <td>0</td>\n",
       "      <td>...</td>\n",
       "      <td>25</td>\n",
       "      <td>0.17</td>\n",
       "      <td>0.03</td>\n",
       "      <td>0.17</td>\n",
       "      <td>0.00</td>\n",
       "      <td>0.00</td>\n",
       "      <td>0.00</td>\n",
       "      <td>0.05</td>\n",
       "      <td>0.00</td>\n",
       "      <td>normal</td>\n",
       "    </tr>\n",
       "    <tr>\n",
       "      <th>1</th>\n",
       "      <td>0</td>\n",
       "      <td>udp</td>\n",
       "      <td>other</td>\n",
       "      <td>SF</td>\n",
       "      <td>146</td>\n",
       "      <td>0</td>\n",
       "      <td>0</td>\n",
       "      <td>0</td>\n",
       "      <td>0</td>\n",
       "      <td>0</td>\n",
       "      <td>...</td>\n",
       "      <td>1</td>\n",
       "      <td>0.00</td>\n",
       "      <td>0.60</td>\n",
       "      <td>0.88</td>\n",
       "      <td>0.00</td>\n",
       "      <td>0.00</td>\n",
       "      <td>0.00</td>\n",
       "      <td>0.00</td>\n",
       "      <td>0.00</td>\n",
       "      <td>normal</td>\n",
       "    </tr>\n",
       "    <tr>\n",
       "      <th>2</th>\n",
       "      <td>0</td>\n",
       "      <td>tcp</td>\n",
       "      <td>private</td>\n",
       "      <td>S0</td>\n",
       "      <td>0</td>\n",
       "      <td>0</td>\n",
       "      <td>0</td>\n",
       "      <td>0</td>\n",
       "      <td>0</td>\n",
       "      <td>0</td>\n",
       "      <td>...</td>\n",
       "      <td>26</td>\n",
       "      <td>0.10</td>\n",
       "      <td>0.05</td>\n",
       "      <td>0.00</td>\n",
       "      <td>0.00</td>\n",
       "      <td>1.00</td>\n",
       "      <td>1.00</td>\n",
       "      <td>0.00</td>\n",
       "      <td>0.00</td>\n",
       "      <td>Dos</td>\n",
       "    </tr>\n",
       "    <tr>\n",
       "      <th>3</th>\n",
       "      <td>0</td>\n",
       "      <td>tcp</td>\n",
       "      <td>http</td>\n",
       "      <td>SF</td>\n",
       "      <td>232</td>\n",
       "      <td>8153</td>\n",
       "      <td>0</td>\n",
       "      <td>0</td>\n",
       "      <td>0</td>\n",
       "      <td>0</td>\n",
       "      <td>...</td>\n",
       "      <td>255</td>\n",
       "      <td>1.00</td>\n",
       "      <td>0.00</td>\n",
       "      <td>0.03</td>\n",
       "      <td>0.04</td>\n",
       "      <td>0.03</td>\n",
       "      <td>0.01</td>\n",
       "      <td>0.00</td>\n",
       "      <td>0.01</td>\n",
       "      <td>normal</td>\n",
       "    </tr>\n",
       "    <tr>\n",
       "      <th>4</th>\n",
       "      <td>0</td>\n",
       "      <td>tcp</td>\n",
       "      <td>http</td>\n",
       "      <td>SF</td>\n",
       "      <td>199</td>\n",
       "      <td>420</td>\n",
       "      <td>0</td>\n",
       "      <td>0</td>\n",
       "      <td>0</td>\n",
       "      <td>0</td>\n",
       "      <td>...</td>\n",
       "      <td>255</td>\n",
       "      <td>1.00</td>\n",
       "      <td>0.00</td>\n",
       "      <td>0.00</td>\n",
       "      <td>0.00</td>\n",
       "      <td>0.00</td>\n",
       "      <td>0.00</td>\n",
       "      <td>0.00</td>\n",
       "      <td>0.00</td>\n",
       "      <td>normal</td>\n",
       "    </tr>\n",
       "  </tbody>\n",
       "</table>\n",
       "<p>5 rows × 42 columns</p>\n",
       "</div>"
      ],
      "text/plain": [
       "   duration  protocol_type   service  flag   src_bytes   dst_bytes   land  \\\n",
       "0         0            tcp  ftp_data    SF         491           0      0   \n",
       "1         0            udp     other    SF         146           0      0   \n",
       "2         0            tcp   private    S0           0           0      0   \n",
       "3         0            tcp      http    SF         232        8153      0   \n",
       "4         0            tcp      http    SF         199         420      0   \n",
       "\n",
       "    wrong_fragment   urgent   hot  ...   dst_host_srv_count  \\\n",
       "0                0        0     0  ...                   25   \n",
       "1                0        0     0  ...                    1   \n",
       "2                0        0     0  ...                   26   \n",
       "3                0        0     0  ...                  255   \n",
       "4                0        0     0  ...                  255   \n",
       "\n",
       "    dst_host_same_srv_rate   dst_host_diff_srv_rate  \\\n",
       "0                     0.17                     0.03   \n",
       "1                     0.00                     0.60   \n",
       "2                     0.10                     0.05   \n",
       "3                     1.00                     0.00   \n",
       "4                     1.00                     0.00   \n",
       "\n",
       "    dst_host_same_src_port_rate   dst_host_srv_diff_host_rate  \\\n",
       "0                          0.17                          0.00   \n",
       "1                          0.88                          0.00   \n",
       "2                          0.00                          0.00   \n",
       "3                          0.03                          0.04   \n",
       "4                          0.00                          0.00   \n",
       "\n",
       "    dst_host_serror_rate    dst_host_srv_serror_rate   dst_host_rerror_rate  \\\n",
       "0                   0.00                        0.00                   0.05   \n",
       "1                   0.00                        0.00                   0.00   \n",
       "2                   1.00                        1.00                   0.00   \n",
       "3                   0.03                        0.01                   0.00   \n",
       "4                   0.00                        0.00                   0.00   \n",
       "\n",
       "    dst_host_srv_rerror_rate   classification.  \n",
       "0                       0.00            normal  \n",
       "1                       0.00            normal  \n",
       "2                       0.00               Dos  \n",
       "3                       0.01            normal  \n",
       "4                       0.00            normal  \n",
       "\n",
       "[5 rows x 42 columns]"
      ]
     },
     "execution_count": 2,
     "metadata": {},
     "output_type": "execute_result"
    }
   ],
   "source": [
    "df_train = pd.read_csv('KDDTrain+aggregate.csv')\n",
    "df_train.head()"
   ]
  },
  {
   "cell_type": "code",
   "execution_count": 3,
   "id": "1d0f70c9",
   "metadata": {},
   "outputs": [
    {
     "data": {
      "text/plain": [
       "Index(['duration', ' protocol_type', ' service', ' flag', ' src_bytes',\n",
       "       ' dst_bytes', ' land', ' wrong_fragment', ' urgent', ' hot',\n",
       "       ' num_failed_loginsì', ' logged_in', ' num_compromised', ' root_shell',\n",
       "       ' su_attempted', ' num_root', ' num_file_creations', ' num_shells',\n",
       "       ' num_access_files', ' num_outbound_cmds', ' is_host_login',\n",
       "       ' is_guest_login', ' count', ' srv_count', ' serror_rate',\n",
       "       ' srv_serror_rate', ' rerror_rate', ' srv_rerror_rate',\n",
       "       ' same_srv_rate', ' diff_srv_rate', ' srv_diff_host_rate',\n",
       "       ' dst_host_count', ' dst_host_srv_count', ' dst_host_same_srv_rate',\n",
       "       ' dst_host_diff_srv_rate', ' dst_host_same_src_port_rate',\n",
       "       ' dst_host_srv_diff_host_rate', ' dst_host_serror_rate',\n",
       "       '  dst_host_srv_serror_rate', ' dst_host_rerror_rate',\n",
       "       ' dst_host_srv_rerror_rate', ' classification.'],\n",
       "      dtype='object')"
      ]
     },
     "execution_count": 3,
     "metadata": {},
     "output_type": "execute_result"
    }
   ],
   "source": [
    "df_train.columns"
   ]
  },
  {
   "cell_type": "code",
   "execution_count": 4,
   "id": "4ace4493",
   "metadata": {},
   "outputs": [
    {
     "data": {
      "text/html": [
       "<div>\n",
       "<style scoped>\n",
       "    .dataframe tbody tr th:only-of-type {\n",
       "        vertical-align: middle;\n",
       "    }\n",
       "\n",
       "    .dataframe tbody tr th {\n",
       "        vertical-align: top;\n",
       "    }\n",
       "\n",
       "    .dataframe thead th {\n",
       "        text-align: right;\n",
       "    }\n",
       "</style>\n",
       "<table border=\"1\" class=\"dataframe\">\n",
       "  <thead>\n",
       "    <tr style=\"text-align: right;\">\n",
       "      <th></th>\n",
       "      <th>duration</th>\n",
       "      <th>protocol_type</th>\n",
       "      <th>service</th>\n",
       "      <th>flag</th>\n",
       "      <th>src_bytes</th>\n",
       "      <th>dst_bytes</th>\n",
       "      <th>land</th>\n",
       "      <th>wrong_fragment</th>\n",
       "      <th>urgent</th>\n",
       "      <th>hot</th>\n",
       "      <th>...</th>\n",
       "      <th>dst_host_srv_count</th>\n",
       "      <th>dst_host_same_srv_rate</th>\n",
       "      <th>dst_host_diff_srv_rate</th>\n",
       "      <th>dst_host_same_src_port_rate</th>\n",
       "      <th>dst_host_srv_diff_host_rate</th>\n",
       "      <th>dst_host_serror_rate</th>\n",
       "      <th>dst_host_srv_serror_rate</th>\n",
       "      <th>dst_host_rerror_rate</th>\n",
       "      <th>dst_host_srv_rerror_rate</th>\n",
       "      <th>classification.</th>\n",
       "    </tr>\n",
       "  </thead>\n",
       "  <tbody>\n",
       "    <tr>\n",
       "      <th>0</th>\n",
       "      <td>0</td>\n",
       "      <td>tcp</td>\n",
       "      <td>private</td>\n",
       "      <td>REJ</td>\n",
       "      <td>0</td>\n",
       "      <td>0</td>\n",
       "      <td>0</td>\n",
       "      <td>0</td>\n",
       "      <td>0</td>\n",
       "      <td>0</td>\n",
       "      <td>...</td>\n",
       "      <td>10</td>\n",
       "      <td>0.04</td>\n",
       "      <td>0.06</td>\n",
       "      <td>0.00</td>\n",
       "      <td>0.00</td>\n",
       "      <td>0.0</td>\n",
       "      <td>0.0</td>\n",
       "      <td>1.00</td>\n",
       "      <td>1.00</td>\n",
       "      <td>Dos</td>\n",
       "    </tr>\n",
       "    <tr>\n",
       "      <th>1</th>\n",
       "      <td>0</td>\n",
       "      <td>tcp</td>\n",
       "      <td>private</td>\n",
       "      <td>REJ</td>\n",
       "      <td>0</td>\n",
       "      <td>0</td>\n",
       "      <td>0</td>\n",
       "      <td>0</td>\n",
       "      <td>0</td>\n",
       "      <td>0</td>\n",
       "      <td>...</td>\n",
       "      <td>1</td>\n",
       "      <td>0.00</td>\n",
       "      <td>0.06</td>\n",
       "      <td>0.00</td>\n",
       "      <td>0.00</td>\n",
       "      <td>0.0</td>\n",
       "      <td>0.0</td>\n",
       "      <td>1.00</td>\n",
       "      <td>1.00</td>\n",
       "      <td>Dos</td>\n",
       "    </tr>\n",
       "    <tr>\n",
       "      <th>2</th>\n",
       "      <td>2</td>\n",
       "      <td>tcp</td>\n",
       "      <td>ftp_data</td>\n",
       "      <td>SF</td>\n",
       "      <td>12983</td>\n",
       "      <td>0</td>\n",
       "      <td>0</td>\n",
       "      <td>0</td>\n",
       "      <td>0</td>\n",
       "      <td>0</td>\n",
       "      <td>...</td>\n",
       "      <td>86</td>\n",
       "      <td>0.61</td>\n",
       "      <td>0.04</td>\n",
       "      <td>0.61</td>\n",
       "      <td>0.02</td>\n",
       "      <td>0.0</td>\n",
       "      <td>0.0</td>\n",
       "      <td>0.00</td>\n",
       "      <td>0.00</td>\n",
       "      <td>normal</td>\n",
       "    </tr>\n",
       "    <tr>\n",
       "      <th>3</th>\n",
       "      <td>0</td>\n",
       "      <td>icmp</td>\n",
       "      <td>eco_i</td>\n",
       "      <td>SF</td>\n",
       "      <td>20</td>\n",
       "      <td>0</td>\n",
       "      <td>0</td>\n",
       "      <td>0</td>\n",
       "      <td>0</td>\n",
       "      <td>0</td>\n",
       "      <td>...</td>\n",
       "      <td>57</td>\n",
       "      <td>1.00</td>\n",
       "      <td>0.00</td>\n",
       "      <td>1.00</td>\n",
       "      <td>0.28</td>\n",
       "      <td>0.0</td>\n",
       "      <td>0.0</td>\n",
       "      <td>0.00</td>\n",
       "      <td>0.00</td>\n",
       "      <td>Probe</td>\n",
       "    </tr>\n",
       "    <tr>\n",
       "      <th>4</th>\n",
       "      <td>1</td>\n",
       "      <td>tcp</td>\n",
       "      <td>telnet</td>\n",
       "      <td>RSTO</td>\n",
       "      <td>0</td>\n",
       "      <td>15</td>\n",
       "      <td>0</td>\n",
       "      <td>0</td>\n",
       "      <td>0</td>\n",
       "      <td>0</td>\n",
       "      <td>...</td>\n",
       "      <td>86</td>\n",
       "      <td>0.31</td>\n",
       "      <td>0.17</td>\n",
       "      <td>0.03</td>\n",
       "      <td>0.02</td>\n",
       "      <td>0.0</td>\n",
       "      <td>0.0</td>\n",
       "      <td>0.83</td>\n",
       "      <td>0.71</td>\n",
       "      <td>Probe</td>\n",
       "    </tr>\n",
       "  </tbody>\n",
       "</table>\n",
       "<p>5 rows × 42 columns</p>\n",
       "</div>"
      ],
      "text/plain": [
       "   duration  protocol_type   service  flag   src_bytes   dst_bytes   land  \\\n",
       "0         0            tcp   private   REJ           0           0      0   \n",
       "1         0            tcp   private   REJ           0           0      0   \n",
       "2         2            tcp  ftp_data    SF       12983           0      0   \n",
       "3         0           icmp     eco_i    SF          20           0      0   \n",
       "4         1            tcp    telnet  RSTO           0          15      0   \n",
       "\n",
       "    wrong_fragment   urgent   hot  ...   dst_host_srv_count  \\\n",
       "0                0        0     0  ...                   10   \n",
       "1                0        0     0  ...                    1   \n",
       "2                0        0     0  ...                   86   \n",
       "3                0        0     0  ...                   57   \n",
       "4                0        0     0  ...                   86   \n",
       "\n",
       "    dst_host_same_srv_rate   dst_host_diff_srv_rate  \\\n",
       "0                     0.04                     0.06   \n",
       "1                     0.00                     0.06   \n",
       "2                     0.61                     0.04   \n",
       "3                     1.00                     0.00   \n",
       "4                     0.31                     0.17   \n",
       "\n",
       "    dst_host_same_src_port_rate   dst_host_srv_diff_host_rate  \\\n",
       "0                          0.00                          0.00   \n",
       "1                          0.00                          0.00   \n",
       "2                          0.61                          0.02   \n",
       "3                          1.00                          0.28   \n",
       "4                          0.03                          0.02   \n",
       "\n",
       "    dst_host_serror_rate    dst_host_srv_serror_rate   dst_host_rerror_rate  \\\n",
       "0                    0.0                         0.0                   1.00   \n",
       "1                    0.0                         0.0                   1.00   \n",
       "2                    0.0                         0.0                   0.00   \n",
       "3                    0.0                         0.0                   0.00   \n",
       "4                    0.0                         0.0                   0.83   \n",
       "\n",
       "    dst_host_srv_rerror_rate   classification.  \n",
       "0                       1.00               Dos  \n",
       "1                       1.00               Dos  \n",
       "2                       0.00            normal  \n",
       "3                       0.00             Probe  \n",
       "4                       0.71             Probe  \n",
       "\n",
       "[5 rows x 42 columns]"
      ]
     },
     "execution_count": 4,
     "metadata": {},
     "output_type": "execute_result"
    }
   ],
   "source": [
    "df_test = pd.read_csv('KDDTest+aggregate.csv')\n",
    "df_test.head()"
   ]
  },
  {
   "cell_type": "code",
   "execution_count": 5,
   "id": "ed3698df",
   "metadata": {},
   "outputs": [
    {
     "data": {
      "text/plain": [
       "Index(['duration', ' protocol_type', ' service', ' flag', ' src_bytes',\n",
       "       ' dst_bytes', ' land', ' wrong_fragment', ' urgent', ' hot',\n",
       "       ' num_failed_loginsì', ' logged_in', ' num_compromised', ' root_shell',\n",
       "       ' su_attempted', ' num_root', ' num_file_creations', ' num_shells',\n",
       "       ' num_access_files', ' num_outbound_cmds', ' is_host_login',\n",
       "       ' is_guest_login', ' count', ' srv_count', ' serror_rate',\n",
       "       ' srv_serror_rate', ' rerror_rate', ' srv_rerror_rate',\n",
       "       ' same_srv_rate', ' diff_srv_rate', ' srv_diff_host_rate',\n",
       "       ' dst_host_count', ' dst_host_srv_count', ' dst_host_same_srv_rate',\n",
       "       ' dst_host_diff_srv_rate', ' dst_host_same_src_port_rate',\n",
       "       ' dst_host_srv_diff_host_rate', ' dst_host_serror_rate',\n",
       "       '  dst_host_srv_serror_rate', ' dst_host_rerror_rate',\n",
       "       ' dst_host_srv_rerror_rate', ' classification.'],\n",
       "      dtype='object')"
      ]
     },
     "execution_count": 5,
     "metadata": {},
     "output_type": "execute_result"
    }
   ],
   "source": [
    "df_test.columns"
   ]
  },
  {
   "cell_type": "code",
   "execution_count": 6,
   "id": "ba0b7b4e",
   "metadata": {},
   "outputs": [],
   "source": [
    "df_train.rename(columns = lambda x: x.strip().lower().replace(\".\", \"\"), inplace = True)\n",
    "df_test.rename(columns = lambda x: x.strip().lower().replace(\".\", \"\"), inplace = True)"
   ]
  },
  {
   "cell_type": "code",
   "execution_count": 7,
   "id": "cc7fd155",
   "metadata": {},
   "outputs": [
    {
     "name": "stdout",
     "output_type": "stream",
     "text": [
      "<class 'pandas.core.frame.DataFrame'>\n",
      "RangeIndex: 125973 entries, 0 to 125972\n",
      "Data columns (total 42 columns):\n",
      " #   Column                       Non-Null Count   Dtype  \n",
      "---  ------                       --------------   -----  \n",
      " 0   duration                     125973 non-null  int64  \n",
      " 1   protocol_type                125973 non-null  object \n",
      " 2   service                      125973 non-null  object \n",
      " 3   flag                         125973 non-null  object \n",
      " 4   src_bytes                    125973 non-null  int64  \n",
      " 5   dst_bytes                    125973 non-null  int64  \n",
      " 6   land                         125973 non-null  int64  \n",
      " 7   wrong_fragment               125973 non-null  int64  \n",
      " 8   urgent                       125973 non-null  int64  \n",
      " 9   hot                          125973 non-null  int64  \n",
      " 10  num_failed_loginsì           125973 non-null  int64  \n",
      " 11  logged_in                    125973 non-null  int64  \n",
      " 12  num_compromised              125973 non-null  int64  \n",
      " 13  root_shell                   125973 non-null  int64  \n",
      " 14  su_attempted                 125973 non-null  int64  \n",
      " 15  num_root                     125973 non-null  int64  \n",
      " 16  num_file_creations           125973 non-null  int64  \n",
      " 17  num_shells                   125973 non-null  int64  \n",
      " 18  num_access_files             125973 non-null  int64  \n",
      " 19  num_outbound_cmds            125973 non-null  int64  \n",
      " 20  is_host_login                125973 non-null  int64  \n",
      " 21  is_guest_login               125973 non-null  int64  \n",
      " 22  count                        125973 non-null  int64  \n",
      " 23  srv_count                    125973 non-null  int64  \n",
      " 24  serror_rate                  125973 non-null  float64\n",
      " 25  srv_serror_rate              125973 non-null  float64\n",
      " 26  rerror_rate                  125973 non-null  float64\n",
      " 27  srv_rerror_rate              125973 non-null  float64\n",
      " 28  same_srv_rate                125973 non-null  float64\n",
      " 29  diff_srv_rate                125973 non-null  float64\n",
      " 30  srv_diff_host_rate           125973 non-null  float64\n",
      " 31  dst_host_count               125973 non-null  int64  \n",
      " 32  dst_host_srv_count           125973 non-null  int64  \n",
      " 33  dst_host_same_srv_rate       125973 non-null  float64\n",
      " 34  dst_host_diff_srv_rate       125973 non-null  float64\n",
      " 35  dst_host_same_src_port_rate  125973 non-null  float64\n",
      " 36  dst_host_srv_diff_host_rate  125973 non-null  float64\n",
      " 37  dst_host_serror_rate         125973 non-null  float64\n",
      " 38  dst_host_srv_serror_rate     125973 non-null  float64\n",
      " 39  dst_host_rerror_rate         125973 non-null  float64\n",
      " 40  dst_host_srv_rerror_rate     125973 non-null  float64\n",
      " 41  classification               125973 non-null  object \n",
      "dtypes: float64(15), int64(23), object(4)\n",
      "memory usage: 40.4+ MB\n"
     ]
    }
   ],
   "source": [
    "df_train.info()"
   ]
  },
  {
   "cell_type": "code",
   "execution_count": 8,
   "id": "6479698b",
   "metadata": {},
   "outputs": [
    {
     "name": "stdout",
     "output_type": "stream",
     "text": [
      "<class 'pandas.core.frame.DataFrame'>\n",
      "RangeIndex: 22544 entries, 0 to 22543\n",
      "Data columns (total 42 columns):\n",
      " #   Column                       Non-Null Count  Dtype  \n",
      "---  ------                       --------------  -----  \n",
      " 0   duration                     22544 non-null  int64  \n",
      " 1   protocol_type                22544 non-null  object \n",
      " 2   service                      22544 non-null  object \n",
      " 3   flag                         22544 non-null  object \n",
      " 4   src_bytes                    22544 non-null  int64  \n",
      " 5   dst_bytes                    22544 non-null  int64  \n",
      " 6   land                         22544 non-null  int64  \n",
      " 7   wrong_fragment               22544 non-null  int64  \n",
      " 8   urgent                       22544 non-null  int64  \n",
      " 9   hot                          22544 non-null  int64  \n",
      " 10  num_failed_loginsì           22544 non-null  int64  \n",
      " 11  logged_in                    22544 non-null  int64  \n",
      " 12  num_compromised              22544 non-null  int64  \n",
      " 13  root_shell                   22544 non-null  int64  \n",
      " 14  su_attempted                 22544 non-null  int64  \n",
      " 15  num_root                     22544 non-null  int64  \n",
      " 16  num_file_creations           22544 non-null  int64  \n",
      " 17  num_shells                   22544 non-null  int64  \n",
      " 18  num_access_files             22544 non-null  int64  \n",
      " 19  num_outbound_cmds            22544 non-null  int64  \n",
      " 20  is_host_login                22544 non-null  int64  \n",
      " 21  is_guest_login               22544 non-null  int64  \n",
      " 22  count                        22544 non-null  int64  \n",
      " 23  srv_count                    22544 non-null  int64  \n",
      " 24  serror_rate                  22544 non-null  float64\n",
      " 25  srv_serror_rate              22544 non-null  float64\n",
      " 26  rerror_rate                  22544 non-null  float64\n",
      " 27  srv_rerror_rate              22544 non-null  float64\n",
      " 28  same_srv_rate                22544 non-null  float64\n",
      " 29  diff_srv_rate                22544 non-null  float64\n",
      " 30  srv_diff_host_rate           22544 non-null  float64\n",
      " 31  dst_host_count               22544 non-null  int64  \n",
      " 32  dst_host_srv_count           22544 non-null  int64  \n",
      " 33  dst_host_same_srv_rate       22544 non-null  float64\n",
      " 34  dst_host_diff_srv_rate       22544 non-null  float64\n",
      " 35  dst_host_same_src_port_rate  22544 non-null  float64\n",
      " 36  dst_host_srv_diff_host_rate  22544 non-null  float64\n",
      " 37  dst_host_serror_rate         22544 non-null  float64\n",
      " 38  dst_host_srv_serror_rate     22544 non-null  float64\n",
      " 39  dst_host_rerror_rate         22544 non-null  float64\n",
      " 40  dst_host_srv_rerror_rate     22544 non-null  float64\n",
      " 41  classification               22544 non-null  object \n",
      "dtypes: float64(15), int64(23), object(4)\n",
      "memory usage: 7.2+ MB\n"
     ]
    }
   ],
   "source": [
    "df_test.info()"
   ]
  },
  {
   "cell_type": "code",
   "execution_count": 9,
   "id": "a3b1340b",
   "metadata": {},
   "outputs": [
    {
     "data": {
      "text/plain": [
       "duration                       2981\n",
       "protocol_type                     3\n",
       "service                          70\n",
       "flag                             11\n",
       "src_bytes                      3341\n",
       "dst_bytes                      9326\n",
       "land                              2\n",
       "wrong_fragment                    3\n",
       "urgent                            4\n",
       "hot                              28\n",
       "num_failed_loginsì                6\n",
       "logged_in                         2\n",
       "num_compromised                  88\n",
       "root_shell                        2\n",
       "su_attempted                      3\n",
       "num_root                         82\n",
       "num_file_creations               35\n",
       "num_shells                        3\n",
       "num_access_files                 10\n",
       "num_outbound_cmds                 1\n",
       "is_host_login                     2\n",
       "is_guest_login                    2\n",
       "count                           512\n",
       "srv_count                       509\n",
       "serror_rate                      89\n",
       "srv_serror_rate                  86\n",
       "rerror_rate                      82\n",
       "srv_rerror_rate                  62\n",
       "same_srv_rate                   101\n",
       "diff_srv_rate                    95\n",
       "srv_diff_host_rate               60\n",
       "dst_host_count                  256\n",
       "dst_host_srv_count              256\n",
       "dst_host_same_srv_rate          101\n",
       "dst_host_diff_srv_rate          101\n",
       "dst_host_same_src_port_rate     101\n",
       "dst_host_srv_diff_host_rate      75\n",
       "dst_host_serror_rate            101\n",
       "dst_host_srv_serror_rate        100\n",
       "dst_host_rerror_rate            101\n",
       "dst_host_srv_rerror_rate        101\n",
       "classification                    5\n",
       "dtype: int64"
      ]
     },
     "execution_count": 9,
     "metadata": {},
     "output_type": "execute_result"
    }
   ],
   "source": [
    "df_train.nunique() "
   ]
  },
  {
   "cell_type": "code",
   "execution_count": 10,
   "id": "9653dcd3",
   "metadata": {},
   "outputs": [
    {
     "data": {
      "text/plain": [
       "duration                        624\n",
       "protocol_type                     3\n",
       "service                          64\n",
       "flag                             11\n",
       "src_bytes                      1149\n",
       "dst_bytes                      3650\n",
       "land                              2\n",
       "wrong_fragment                    3\n",
       "urgent                            4\n",
       "hot                              16\n",
       "num_failed_loginsì                5\n",
       "logged_in                         2\n",
       "num_compromised                  23\n",
       "root_shell                        2\n",
       "su_attempted                      3\n",
       "num_root                         20\n",
       "num_file_creations                9\n",
       "num_shells                        4\n",
       "num_access_files                  5\n",
       "num_outbound_cmds                 1\n",
       "is_host_login                     2\n",
       "is_guest_login                    2\n",
       "count                           495\n",
       "srv_count                       457\n",
       "serror_rate                      88\n",
       "srv_serror_rate                  82\n",
       "rerror_rate                      90\n",
       "srv_rerror_rate                  93\n",
       "same_srv_rate                    75\n",
       "diff_srv_rate                    99\n",
       "srv_diff_host_rate               84\n",
       "dst_host_count                  256\n",
       "dst_host_srv_count              256\n",
       "dst_host_same_srv_rate          101\n",
       "dst_host_diff_srv_rate          101\n",
       "dst_host_same_src_port_rate     101\n",
       "dst_host_srv_diff_host_rate      58\n",
       "dst_host_serror_rate             99\n",
       "dst_host_srv_serror_rate        101\n",
       "dst_host_rerror_rate            101\n",
       "dst_host_srv_rerror_rate        100\n",
       "classification                    5\n",
       "dtype: int64"
      ]
     },
     "execution_count": 10,
     "metadata": {},
     "output_type": "execute_result"
    }
   ],
   "source": [
    "df_test.nunique() "
   ]
  },
  {
   "cell_type": "code",
   "execution_count": 11,
   "id": "94159cab",
   "metadata": {},
   "outputs": [
    {
     "data": {
      "text/html": [
       "<div>\n",
       "<style scoped>\n",
       "    .dataframe tbody tr th:only-of-type {\n",
       "        vertical-align: middle;\n",
       "    }\n",
       "\n",
       "    .dataframe tbody tr th {\n",
       "        vertical-align: top;\n",
       "    }\n",
       "\n",
       "    .dataframe thead th {\n",
       "        text-align: right;\n",
       "    }\n",
       "</style>\n",
       "<table border=\"1\" class=\"dataframe\">\n",
       "  <thead>\n",
       "    <tr style=\"text-align: right;\">\n",
       "      <th></th>\n",
       "      <th>duration</th>\n",
       "      <th>src_bytes</th>\n",
       "      <th>dst_bytes</th>\n",
       "      <th>land</th>\n",
       "      <th>wrong_fragment</th>\n",
       "      <th>urgent</th>\n",
       "      <th>hot</th>\n",
       "      <th>num_failed_loginsì</th>\n",
       "      <th>logged_in</th>\n",
       "      <th>num_compromised</th>\n",
       "      <th>...</th>\n",
       "      <th>dst_host_count</th>\n",
       "      <th>dst_host_srv_count</th>\n",
       "      <th>dst_host_same_srv_rate</th>\n",
       "      <th>dst_host_diff_srv_rate</th>\n",
       "      <th>dst_host_same_src_port_rate</th>\n",
       "      <th>dst_host_srv_diff_host_rate</th>\n",
       "      <th>dst_host_serror_rate</th>\n",
       "      <th>dst_host_srv_serror_rate</th>\n",
       "      <th>dst_host_rerror_rate</th>\n",
       "      <th>dst_host_srv_rerror_rate</th>\n",
       "    </tr>\n",
       "  </thead>\n",
       "  <tbody>\n",
       "    <tr>\n",
       "      <th>count</th>\n",
       "      <td>125973.00000</td>\n",
       "      <td>1.259730e+05</td>\n",
       "      <td>1.259730e+05</td>\n",
       "      <td>125973.000000</td>\n",
       "      <td>125973.000000</td>\n",
       "      <td>125973.000000</td>\n",
       "      <td>125973.000000</td>\n",
       "      <td>125973.000000</td>\n",
       "      <td>125973.000000</td>\n",
       "      <td>125973.000000</td>\n",
       "      <td>...</td>\n",
       "      <td>125973.000000</td>\n",
       "      <td>125973.000000</td>\n",
       "      <td>125973.000000</td>\n",
       "      <td>125973.000000</td>\n",
       "      <td>125973.000000</td>\n",
       "      <td>125973.000000</td>\n",
       "      <td>125973.000000</td>\n",
       "      <td>125973.000000</td>\n",
       "      <td>125973.000000</td>\n",
       "      <td>125973.000000</td>\n",
       "    </tr>\n",
       "    <tr>\n",
       "      <th>mean</th>\n",
       "      <td>287.14465</td>\n",
       "      <td>4.556674e+04</td>\n",
       "      <td>1.977911e+04</td>\n",
       "      <td>0.000198</td>\n",
       "      <td>0.022687</td>\n",
       "      <td>0.000111</td>\n",
       "      <td>0.204409</td>\n",
       "      <td>0.001222</td>\n",
       "      <td>0.395736</td>\n",
       "      <td>0.279250</td>\n",
       "      <td>...</td>\n",
       "      <td>182.148945</td>\n",
       "      <td>115.653005</td>\n",
       "      <td>0.521242</td>\n",
       "      <td>0.082951</td>\n",
       "      <td>0.148379</td>\n",
       "      <td>0.032542</td>\n",
       "      <td>0.284452</td>\n",
       "      <td>0.278485</td>\n",
       "      <td>0.118832</td>\n",
       "      <td>0.120240</td>\n",
       "    </tr>\n",
       "    <tr>\n",
       "      <th>std</th>\n",
       "      <td>2604.51531</td>\n",
       "      <td>5.870331e+06</td>\n",
       "      <td>4.021269e+06</td>\n",
       "      <td>0.014086</td>\n",
       "      <td>0.253530</td>\n",
       "      <td>0.014366</td>\n",
       "      <td>2.149968</td>\n",
       "      <td>0.045239</td>\n",
       "      <td>0.489010</td>\n",
       "      <td>23.942042</td>\n",
       "      <td>...</td>\n",
       "      <td>99.206213</td>\n",
       "      <td>110.702741</td>\n",
       "      <td>0.448949</td>\n",
       "      <td>0.188922</td>\n",
       "      <td>0.308997</td>\n",
       "      <td>0.112564</td>\n",
       "      <td>0.444784</td>\n",
       "      <td>0.445669</td>\n",
       "      <td>0.306557</td>\n",
       "      <td>0.319459</td>\n",
       "    </tr>\n",
       "    <tr>\n",
       "      <th>min</th>\n",
       "      <td>0.00000</td>\n",
       "      <td>0.000000e+00</td>\n",
       "      <td>0.000000e+00</td>\n",
       "      <td>0.000000</td>\n",
       "      <td>0.000000</td>\n",
       "      <td>0.000000</td>\n",
       "      <td>0.000000</td>\n",
       "      <td>0.000000</td>\n",
       "      <td>0.000000</td>\n",
       "      <td>0.000000</td>\n",
       "      <td>...</td>\n",
       "      <td>0.000000</td>\n",
       "      <td>0.000000</td>\n",
       "      <td>0.000000</td>\n",
       "      <td>0.000000</td>\n",
       "      <td>0.000000</td>\n",
       "      <td>0.000000</td>\n",
       "      <td>0.000000</td>\n",
       "      <td>0.000000</td>\n",
       "      <td>0.000000</td>\n",
       "      <td>0.000000</td>\n",
       "    </tr>\n",
       "    <tr>\n",
       "      <th>25%</th>\n",
       "      <td>0.00000</td>\n",
       "      <td>0.000000e+00</td>\n",
       "      <td>0.000000e+00</td>\n",
       "      <td>0.000000</td>\n",
       "      <td>0.000000</td>\n",
       "      <td>0.000000</td>\n",
       "      <td>0.000000</td>\n",
       "      <td>0.000000</td>\n",
       "      <td>0.000000</td>\n",
       "      <td>0.000000</td>\n",
       "      <td>...</td>\n",
       "      <td>82.000000</td>\n",
       "      <td>10.000000</td>\n",
       "      <td>0.050000</td>\n",
       "      <td>0.000000</td>\n",
       "      <td>0.000000</td>\n",
       "      <td>0.000000</td>\n",
       "      <td>0.000000</td>\n",
       "      <td>0.000000</td>\n",
       "      <td>0.000000</td>\n",
       "      <td>0.000000</td>\n",
       "    </tr>\n",
       "    <tr>\n",
       "      <th>50%</th>\n",
       "      <td>0.00000</td>\n",
       "      <td>4.400000e+01</td>\n",
       "      <td>0.000000e+00</td>\n",
       "      <td>0.000000</td>\n",
       "      <td>0.000000</td>\n",
       "      <td>0.000000</td>\n",
       "      <td>0.000000</td>\n",
       "      <td>0.000000</td>\n",
       "      <td>0.000000</td>\n",
       "      <td>0.000000</td>\n",
       "      <td>...</td>\n",
       "      <td>255.000000</td>\n",
       "      <td>63.000000</td>\n",
       "      <td>0.510000</td>\n",
       "      <td>0.020000</td>\n",
       "      <td>0.000000</td>\n",
       "      <td>0.000000</td>\n",
       "      <td>0.000000</td>\n",
       "      <td>0.000000</td>\n",
       "      <td>0.000000</td>\n",
       "      <td>0.000000</td>\n",
       "    </tr>\n",
       "    <tr>\n",
       "      <th>75%</th>\n",
       "      <td>0.00000</td>\n",
       "      <td>2.760000e+02</td>\n",
       "      <td>5.160000e+02</td>\n",
       "      <td>0.000000</td>\n",
       "      <td>0.000000</td>\n",
       "      <td>0.000000</td>\n",
       "      <td>0.000000</td>\n",
       "      <td>0.000000</td>\n",
       "      <td>1.000000</td>\n",
       "      <td>0.000000</td>\n",
       "      <td>...</td>\n",
       "      <td>255.000000</td>\n",
       "      <td>255.000000</td>\n",
       "      <td>1.000000</td>\n",
       "      <td>0.070000</td>\n",
       "      <td>0.060000</td>\n",
       "      <td>0.020000</td>\n",
       "      <td>1.000000</td>\n",
       "      <td>1.000000</td>\n",
       "      <td>0.000000</td>\n",
       "      <td>0.000000</td>\n",
       "    </tr>\n",
       "    <tr>\n",
       "      <th>max</th>\n",
       "      <td>42908.00000</td>\n",
       "      <td>1.379964e+09</td>\n",
       "      <td>1.309937e+09</td>\n",
       "      <td>1.000000</td>\n",
       "      <td>3.000000</td>\n",
       "      <td>3.000000</td>\n",
       "      <td>77.000000</td>\n",
       "      <td>5.000000</td>\n",
       "      <td>1.000000</td>\n",
       "      <td>7479.000000</td>\n",
       "      <td>...</td>\n",
       "      <td>255.000000</td>\n",
       "      <td>255.000000</td>\n",
       "      <td>1.000000</td>\n",
       "      <td>1.000000</td>\n",
       "      <td>1.000000</td>\n",
       "      <td>1.000000</td>\n",
       "      <td>1.000000</td>\n",
       "      <td>1.000000</td>\n",
       "      <td>1.000000</td>\n",
       "      <td>1.000000</td>\n",
       "    </tr>\n",
       "  </tbody>\n",
       "</table>\n",
       "<p>8 rows × 38 columns</p>\n",
       "</div>"
      ],
      "text/plain": [
       "           duration     src_bytes     dst_bytes           land  \\\n",
       "count  125973.00000  1.259730e+05  1.259730e+05  125973.000000   \n",
       "mean      287.14465  4.556674e+04  1.977911e+04       0.000198   \n",
       "std      2604.51531  5.870331e+06  4.021269e+06       0.014086   \n",
       "min         0.00000  0.000000e+00  0.000000e+00       0.000000   \n",
       "25%         0.00000  0.000000e+00  0.000000e+00       0.000000   \n",
       "50%         0.00000  4.400000e+01  0.000000e+00       0.000000   \n",
       "75%         0.00000  2.760000e+02  5.160000e+02       0.000000   \n",
       "max     42908.00000  1.379964e+09  1.309937e+09       1.000000   \n",
       "\n",
       "       wrong_fragment         urgent            hot  num_failed_loginsì  \\\n",
       "count   125973.000000  125973.000000  125973.000000       125973.000000   \n",
       "mean         0.022687       0.000111       0.204409            0.001222   \n",
       "std          0.253530       0.014366       2.149968            0.045239   \n",
       "min          0.000000       0.000000       0.000000            0.000000   \n",
       "25%          0.000000       0.000000       0.000000            0.000000   \n",
       "50%          0.000000       0.000000       0.000000            0.000000   \n",
       "75%          0.000000       0.000000       0.000000            0.000000   \n",
       "max          3.000000       3.000000      77.000000            5.000000   \n",
       "\n",
       "           logged_in  num_compromised  ...  dst_host_count  \\\n",
       "count  125973.000000    125973.000000  ...   125973.000000   \n",
       "mean        0.395736         0.279250  ...      182.148945   \n",
       "std         0.489010        23.942042  ...       99.206213   \n",
       "min         0.000000         0.000000  ...        0.000000   \n",
       "25%         0.000000         0.000000  ...       82.000000   \n",
       "50%         0.000000         0.000000  ...      255.000000   \n",
       "75%         1.000000         0.000000  ...      255.000000   \n",
       "max         1.000000      7479.000000  ...      255.000000   \n",
       "\n",
       "       dst_host_srv_count  dst_host_same_srv_rate  dst_host_diff_srv_rate  \\\n",
       "count       125973.000000           125973.000000           125973.000000   \n",
       "mean           115.653005                0.521242                0.082951   \n",
       "std            110.702741                0.448949                0.188922   \n",
       "min              0.000000                0.000000                0.000000   \n",
       "25%             10.000000                0.050000                0.000000   \n",
       "50%             63.000000                0.510000                0.020000   \n",
       "75%            255.000000                1.000000                0.070000   \n",
       "max            255.000000                1.000000                1.000000   \n",
       "\n",
       "       dst_host_same_src_port_rate  dst_host_srv_diff_host_rate  \\\n",
       "count                125973.000000                125973.000000   \n",
       "mean                      0.148379                     0.032542   \n",
       "std                       0.308997                     0.112564   \n",
       "min                       0.000000                     0.000000   \n",
       "25%                       0.000000                     0.000000   \n",
       "50%                       0.000000                     0.000000   \n",
       "75%                       0.060000                     0.020000   \n",
       "max                       1.000000                     1.000000   \n",
       "\n",
       "       dst_host_serror_rate  dst_host_srv_serror_rate  dst_host_rerror_rate  \\\n",
       "count         125973.000000             125973.000000         125973.000000   \n",
       "mean               0.284452                  0.278485              0.118832   \n",
       "std                0.444784                  0.445669              0.306557   \n",
       "min                0.000000                  0.000000              0.000000   \n",
       "25%                0.000000                  0.000000              0.000000   \n",
       "50%                0.000000                  0.000000              0.000000   \n",
       "75%                1.000000                  1.000000              0.000000   \n",
       "max                1.000000                  1.000000              1.000000   \n",
       "\n",
       "       dst_host_srv_rerror_rate  \n",
       "count             125973.000000  \n",
       "mean                   0.120240  \n",
       "std                    0.319459  \n",
       "min                    0.000000  \n",
       "25%                    0.000000  \n",
       "50%                    0.000000  \n",
       "75%                    0.000000  \n",
       "max                    1.000000  \n",
       "\n",
       "[8 rows x 38 columns]"
      ]
     },
     "execution_count": 11,
     "metadata": {},
     "output_type": "execute_result"
    }
   ],
   "source": [
    "df_train.describe()"
   ]
  },
  {
   "cell_type": "code",
   "execution_count": 12,
   "id": "0e03c3ec",
   "metadata": {},
   "outputs": [
    {
     "data": {
      "text/html": [
       "<div>\n",
       "<style scoped>\n",
       "    .dataframe tbody tr th:only-of-type {\n",
       "        vertical-align: middle;\n",
       "    }\n",
       "\n",
       "    .dataframe tbody tr th {\n",
       "        vertical-align: top;\n",
       "    }\n",
       "\n",
       "    .dataframe thead th {\n",
       "        text-align: right;\n",
       "    }\n",
       "</style>\n",
       "<table border=\"1\" class=\"dataframe\">\n",
       "  <thead>\n",
       "    <tr style=\"text-align: right;\">\n",
       "      <th></th>\n",
       "      <th>duration</th>\n",
       "      <th>src_bytes</th>\n",
       "      <th>dst_bytes</th>\n",
       "      <th>land</th>\n",
       "      <th>wrong_fragment</th>\n",
       "      <th>urgent</th>\n",
       "      <th>hot</th>\n",
       "      <th>num_failed_loginsì</th>\n",
       "      <th>logged_in</th>\n",
       "      <th>num_compromised</th>\n",
       "      <th>...</th>\n",
       "      <th>dst_host_count</th>\n",
       "      <th>dst_host_srv_count</th>\n",
       "      <th>dst_host_same_srv_rate</th>\n",
       "      <th>dst_host_diff_srv_rate</th>\n",
       "      <th>dst_host_same_src_port_rate</th>\n",
       "      <th>dst_host_srv_diff_host_rate</th>\n",
       "      <th>dst_host_serror_rate</th>\n",
       "      <th>dst_host_srv_serror_rate</th>\n",
       "      <th>dst_host_rerror_rate</th>\n",
       "      <th>dst_host_srv_rerror_rate</th>\n",
       "    </tr>\n",
       "  </thead>\n",
       "  <tbody>\n",
       "    <tr>\n",
       "      <th>count</th>\n",
       "      <td>22544.000000</td>\n",
       "      <td>2.254400e+04</td>\n",
       "      <td>2.254400e+04</td>\n",
       "      <td>22544.000000</td>\n",
       "      <td>22544.000000</td>\n",
       "      <td>22544.000000</td>\n",
       "      <td>22544.000000</td>\n",
       "      <td>22544.000000</td>\n",
       "      <td>22544.000000</td>\n",
       "      <td>22544.000000</td>\n",
       "      <td>...</td>\n",
       "      <td>22544.000000</td>\n",
       "      <td>22544.000000</td>\n",
       "      <td>22544.000000</td>\n",
       "      <td>22544.000000</td>\n",
       "      <td>22544.000000</td>\n",
       "      <td>22544.000000</td>\n",
       "      <td>22544.000000</td>\n",
       "      <td>22544.000000</td>\n",
       "      <td>22544.000000</td>\n",
       "      <td>22544.000000</td>\n",
       "    </tr>\n",
       "    <tr>\n",
       "      <th>mean</th>\n",
       "      <td>218.859076</td>\n",
       "      <td>1.039545e+04</td>\n",
       "      <td>2.056019e+03</td>\n",
       "      <td>0.000311</td>\n",
       "      <td>0.008428</td>\n",
       "      <td>0.000710</td>\n",
       "      <td>0.105394</td>\n",
       "      <td>0.021647</td>\n",
       "      <td>0.442202</td>\n",
       "      <td>0.119899</td>\n",
       "      <td>...</td>\n",
       "      <td>193.869411</td>\n",
       "      <td>140.750532</td>\n",
       "      <td>0.608722</td>\n",
       "      <td>0.090540</td>\n",
       "      <td>0.132261</td>\n",
       "      <td>0.019638</td>\n",
       "      <td>0.097814</td>\n",
       "      <td>0.099426</td>\n",
       "      <td>0.233385</td>\n",
       "      <td>0.226683</td>\n",
       "    </tr>\n",
       "    <tr>\n",
       "      <th>std</th>\n",
       "      <td>1407.176612</td>\n",
       "      <td>4.727864e+05</td>\n",
       "      <td>2.121930e+04</td>\n",
       "      <td>0.017619</td>\n",
       "      <td>0.142599</td>\n",
       "      <td>0.036473</td>\n",
       "      <td>0.928428</td>\n",
       "      <td>0.150328</td>\n",
       "      <td>0.496659</td>\n",
       "      <td>7.269597</td>\n",
       "      <td>...</td>\n",
       "      <td>94.035663</td>\n",
       "      <td>111.783972</td>\n",
       "      <td>0.435688</td>\n",
       "      <td>0.220717</td>\n",
       "      <td>0.306268</td>\n",
       "      <td>0.085394</td>\n",
       "      <td>0.273139</td>\n",
       "      <td>0.281866</td>\n",
       "      <td>0.387229</td>\n",
       "      <td>0.400875</td>\n",
       "    </tr>\n",
       "    <tr>\n",
       "      <th>min</th>\n",
       "      <td>0.000000</td>\n",
       "      <td>0.000000e+00</td>\n",
       "      <td>0.000000e+00</td>\n",
       "      <td>0.000000</td>\n",
       "      <td>0.000000</td>\n",
       "      <td>0.000000</td>\n",
       "      <td>0.000000</td>\n",
       "      <td>0.000000</td>\n",
       "      <td>0.000000</td>\n",
       "      <td>0.000000</td>\n",
       "      <td>...</td>\n",
       "      <td>0.000000</td>\n",
       "      <td>0.000000</td>\n",
       "      <td>0.000000</td>\n",
       "      <td>0.000000</td>\n",
       "      <td>0.000000</td>\n",
       "      <td>0.000000</td>\n",
       "      <td>0.000000</td>\n",
       "      <td>0.000000</td>\n",
       "      <td>0.000000</td>\n",
       "      <td>0.000000</td>\n",
       "    </tr>\n",
       "    <tr>\n",
       "      <th>25%</th>\n",
       "      <td>0.000000</td>\n",
       "      <td>0.000000e+00</td>\n",
       "      <td>0.000000e+00</td>\n",
       "      <td>0.000000</td>\n",
       "      <td>0.000000</td>\n",
       "      <td>0.000000</td>\n",
       "      <td>0.000000</td>\n",
       "      <td>0.000000</td>\n",
       "      <td>0.000000</td>\n",
       "      <td>0.000000</td>\n",
       "      <td>...</td>\n",
       "      <td>121.000000</td>\n",
       "      <td>15.000000</td>\n",
       "      <td>0.070000</td>\n",
       "      <td>0.000000</td>\n",
       "      <td>0.000000</td>\n",
       "      <td>0.000000</td>\n",
       "      <td>0.000000</td>\n",
       "      <td>0.000000</td>\n",
       "      <td>0.000000</td>\n",
       "      <td>0.000000</td>\n",
       "    </tr>\n",
       "    <tr>\n",
       "      <th>50%</th>\n",
       "      <td>0.000000</td>\n",
       "      <td>5.400000e+01</td>\n",
       "      <td>4.600000e+01</td>\n",
       "      <td>0.000000</td>\n",
       "      <td>0.000000</td>\n",
       "      <td>0.000000</td>\n",
       "      <td>0.000000</td>\n",
       "      <td>0.000000</td>\n",
       "      <td>0.000000</td>\n",
       "      <td>0.000000</td>\n",
       "      <td>...</td>\n",
       "      <td>255.000000</td>\n",
       "      <td>168.000000</td>\n",
       "      <td>0.920000</td>\n",
       "      <td>0.010000</td>\n",
       "      <td>0.000000</td>\n",
       "      <td>0.000000</td>\n",
       "      <td>0.000000</td>\n",
       "      <td>0.000000</td>\n",
       "      <td>0.000000</td>\n",
       "      <td>0.000000</td>\n",
       "    </tr>\n",
       "    <tr>\n",
       "      <th>75%</th>\n",
       "      <td>0.000000</td>\n",
       "      <td>2.870000e+02</td>\n",
       "      <td>6.010000e+02</td>\n",
       "      <td>0.000000</td>\n",
       "      <td>0.000000</td>\n",
       "      <td>0.000000</td>\n",
       "      <td>0.000000</td>\n",
       "      <td>0.000000</td>\n",
       "      <td>1.000000</td>\n",
       "      <td>0.000000</td>\n",
       "      <td>...</td>\n",
       "      <td>255.000000</td>\n",
       "      <td>255.000000</td>\n",
       "      <td>1.000000</td>\n",
       "      <td>0.060000</td>\n",
       "      <td>0.030000</td>\n",
       "      <td>0.010000</td>\n",
       "      <td>0.000000</td>\n",
       "      <td>0.000000</td>\n",
       "      <td>0.360000</td>\n",
       "      <td>0.170000</td>\n",
       "    </tr>\n",
       "    <tr>\n",
       "      <th>max</th>\n",
       "      <td>57715.000000</td>\n",
       "      <td>6.282565e+07</td>\n",
       "      <td>1.345927e+06</td>\n",
       "      <td>1.000000</td>\n",
       "      <td>3.000000</td>\n",
       "      <td>3.000000</td>\n",
       "      <td>101.000000</td>\n",
       "      <td>4.000000</td>\n",
       "      <td>1.000000</td>\n",
       "      <td>796.000000</td>\n",
       "      <td>...</td>\n",
       "      <td>255.000000</td>\n",
       "      <td>255.000000</td>\n",
       "      <td>1.000000</td>\n",
       "      <td>1.000000</td>\n",
       "      <td>1.000000</td>\n",
       "      <td>1.000000</td>\n",
       "      <td>1.000000</td>\n",
       "      <td>1.000000</td>\n",
       "      <td>1.000000</td>\n",
       "      <td>1.000000</td>\n",
       "    </tr>\n",
       "  </tbody>\n",
       "</table>\n",
       "<p>8 rows × 38 columns</p>\n",
       "</div>"
      ],
      "text/plain": [
       "           duration     src_bytes     dst_bytes          land  wrong_fragment  \\\n",
       "count  22544.000000  2.254400e+04  2.254400e+04  22544.000000    22544.000000   \n",
       "mean     218.859076  1.039545e+04  2.056019e+03      0.000311        0.008428   \n",
       "std     1407.176612  4.727864e+05  2.121930e+04      0.017619        0.142599   \n",
       "min        0.000000  0.000000e+00  0.000000e+00      0.000000        0.000000   \n",
       "25%        0.000000  0.000000e+00  0.000000e+00      0.000000        0.000000   \n",
       "50%        0.000000  5.400000e+01  4.600000e+01      0.000000        0.000000   \n",
       "75%        0.000000  2.870000e+02  6.010000e+02      0.000000        0.000000   \n",
       "max    57715.000000  6.282565e+07  1.345927e+06      1.000000        3.000000   \n",
       "\n",
       "             urgent           hot  num_failed_loginsì     logged_in  \\\n",
       "count  22544.000000  22544.000000        22544.000000  22544.000000   \n",
       "mean       0.000710      0.105394            0.021647      0.442202   \n",
       "std        0.036473      0.928428            0.150328      0.496659   \n",
       "min        0.000000      0.000000            0.000000      0.000000   \n",
       "25%        0.000000      0.000000            0.000000      0.000000   \n",
       "50%        0.000000      0.000000            0.000000      0.000000   \n",
       "75%        0.000000      0.000000            0.000000      1.000000   \n",
       "max        3.000000    101.000000            4.000000      1.000000   \n",
       "\n",
       "       num_compromised  ...  dst_host_count  dst_host_srv_count  \\\n",
       "count     22544.000000  ...    22544.000000        22544.000000   \n",
       "mean          0.119899  ...      193.869411          140.750532   \n",
       "std           7.269597  ...       94.035663          111.783972   \n",
       "min           0.000000  ...        0.000000            0.000000   \n",
       "25%           0.000000  ...      121.000000           15.000000   \n",
       "50%           0.000000  ...      255.000000          168.000000   \n",
       "75%           0.000000  ...      255.000000          255.000000   \n",
       "max         796.000000  ...      255.000000          255.000000   \n",
       "\n",
       "       dst_host_same_srv_rate  dst_host_diff_srv_rate  \\\n",
       "count            22544.000000            22544.000000   \n",
       "mean                 0.608722                0.090540   \n",
       "std                  0.435688                0.220717   \n",
       "min                  0.000000                0.000000   \n",
       "25%                  0.070000                0.000000   \n",
       "50%                  0.920000                0.010000   \n",
       "75%                  1.000000                0.060000   \n",
       "max                  1.000000                1.000000   \n",
       "\n",
       "       dst_host_same_src_port_rate  dst_host_srv_diff_host_rate  \\\n",
       "count                 22544.000000                 22544.000000   \n",
       "mean                      0.132261                     0.019638   \n",
       "std                       0.306268                     0.085394   \n",
       "min                       0.000000                     0.000000   \n",
       "25%                       0.000000                     0.000000   \n",
       "50%                       0.000000                     0.000000   \n",
       "75%                       0.030000                     0.010000   \n",
       "max                       1.000000                     1.000000   \n",
       "\n",
       "       dst_host_serror_rate  dst_host_srv_serror_rate  dst_host_rerror_rate  \\\n",
       "count          22544.000000              22544.000000          22544.000000   \n",
       "mean               0.097814                  0.099426              0.233385   \n",
       "std                0.273139                  0.281866              0.387229   \n",
       "min                0.000000                  0.000000              0.000000   \n",
       "25%                0.000000                  0.000000              0.000000   \n",
       "50%                0.000000                  0.000000              0.000000   \n",
       "75%                0.000000                  0.000000              0.360000   \n",
       "max                1.000000                  1.000000              1.000000   \n",
       "\n",
       "       dst_host_srv_rerror_rate  \n",
       "count              22544.000000  \n",
       "mean                   0.226683  \n",
       "std                    0.400875  \n",
       "min                    0.000000  \n",
       "25%                    0.000000  \n",
       "50%                    0.000000  \n",
       "75%                    0.170000  \n",
       "max                    1.000000  \n",
       "\n",
       "[8 rows x 38 columns]"
      ]
     },
     "execution_count": 12,
     "metadata": {},
     "output_type": "execute_result"
    }
   ],
   "source": [
    "df_test.describe()"
   ]
  },
  {
   "cell_type": "code",
   "execution_count": 13,
   "id": "2018fcf3",
   "metadata": {
    "scrolled": true
   },
   "outputs": [
    {
     "data": {
      "text/plain": [
       "normal    67343\n",
       "Dos       45927\n",
       "Probe     11656\n",
       "R2L         995\n",
       "U2R          52\n",
       "Name: classification, dtype: int64"
      ]
     },
     "execution_count": 13,
     "metadata": {},
     "output_type": "execute_result"
    }
   ],
   "source": [
    "df_train.classification.value_counts()"
   ]
  },
  {
   "cell_type": "code",
   "execution_count": 14,
   "id": "3d2944b2",
   "metadata": {},
   "outputs": [
    {
     "data": {
      "text/plain": [
       "normal    9711\n",
       "Dos       7458\n",
       "R2L       2754\n",
       "Probe     2421\n",
       "U2R        200\n",
       "Name: classification, dtype: int64"
      ]
     },
     "execution_count": 14,
     "metadata": {},
     "output_type": "execute_result"
    }
   ],
   "source": [
    "df_test.classification.value_counts()"
   ]
  },
  {
   "cell_type": "code",
   "execution_count": 15,
   "id": "51ee97d5",
   "metadata": {},
   "outputs": [
    {
     "data": {
      "text/plain": [
       "9"
      ]
     },
     "execution_count": 15,
     "metadata": {},
     "output_type": "execute_result"
    }
   ],
   "source": [
    "# Check duplicated data\n",
    "df_train.duplicated().sum()"
   ]
  },
  {
   "cell_type": "code",
   "execution_count": 16,
   "id": "987d9dee",
   "metadata": {},
   "outputs": [
    {
     "data": {
      "text/plain": [
       "False"
      ]
     },
     "execution_count": 16,
     "metadata": {},
     "output_type": "execute_result"
    }
   ],
   "source": [
    "# Drop duplicated data\n",
    "df_train.drop_duplicates(inplace = True)\n",
    "\n",
    "# Check for any duplicated values\n",
    "df_train.duplicated().sum().any()"
   ]
  },
  {
   "cell_type": "code",
   "execution_count": 17,
   "id": "1b046b12",
   "metadata": {},
   "outputs": [
    {
     "data": {
      "text/plain": [
       "3"
      ]
     },
     "execution_count": 17,
     "metadata": {},
     "output_type": "execute_result"
    }
   ],
   "source": [
    "# Check duplicated data\n",
    "df_test.duplicated().sum()"
   ]
  },
  {
   "cell_type": "code",
   "execution_count": 18,
   "id": "7519df40",
   "metadata": {},
   "outputs": [
    {
     "data": {
      "text/plain": [
       "False"
      ]
     },
     "execution_count": 18,
     "metadata": {},
     "output_type": "execute_result"
    }
   ],
   "source": [
    "# Drop duplicated data\n",
    "df_test.drop_duplicates(inplace = True)\n",
    "\n",
    "# Check for any duplicated values\n",
    "df_test.duplicated().sum().any()"
   ]
  },
  {
   "cell_type": "code",
   "execution_count": 19,
   "id": "e7f726a8",
   "metadata": {},
   "outputs": [
    {
     "data": {
      "text/plain": [
       "False"
      ]
     },
     "execution_count": 19,
     "metadata": {},
     "output_type": "execute_result"
    }
   ],
   "source": [
    "# print number of NaN Values\n",
    "df_train.isnull().sum().sum().any()"
   ]
  },
  {
   "cell_type": "code",
   "execution_count": 20,
   "id": "12db4fad",
   "metadata": {},
   "outputs": [
    {
     "data": {
      "text/plain": [
       "False"
      ]
     },
     "execution_count": 20,
     "metadata": {},
     "output_type": "execute_result"
    }
   ],
   "source": [
    "# print number of NaN Values\n",
    "df_test.isnull().sum().sum().any()"
   ]
  },
  {
   "cell_type": "code",
   "execution_count": 21,
   "id": "e1a2aeaa",
   "metadata": {},
   "outputs": [],
   "source": [
    "df_train.to_csv('Clean_KDDTrain.csv', index = False)\n",
    "df_test.to_csv('Clean_KDDTest.csv', index = False)"
   ]
  },
  {
   "cell_type": "code",
   "execution_count": 45,
   "id": "453c67fb",
   "metadata": {
    "scrolled": true
   },
   "outputs": [
    {
     "data": {
      "text/plain": [
       "duration                             0\n",
       "protocol_type                      tcp\n",
       "service                        private\n",
       "flag                               REJ\n",
       "src_bytes                            0\n",
       "dst_bytes                            0\n",
       "land                                 0\n",
       "wrong_fragment                       0\n",
       "urgent                               0\n",
       "hot                                  0\n",
       "num_failed_loginsì                   0\n",
       "logged_in                            0\n",
       "num_compromised                      0\n",
       "root_shell                           0\n",
       "su_attempted                         0\n",
       "num_root                             0\n",
       "num_file_creations                   0\n",
       "num_shells                           0\n",
       "num_access_files                     0\n",
       "num_outbound_cmds                    0\n",
       "is_host_login                        0\n",
       "is_guest_login                       0\n",
       "count                              229\n",
       "srv_count                           10\n",
       "serror_rate                        0.0\n",
       "srv_serror_rate                    0.0\n",
       "rerror_rate                        1.0\n",
       "srv_rerror_rate                    1.0\n",
       "same_srv_rate                     0.04\n",
       "diff_srv_rate                     0.06\n",
       "srv_diff_host_rate                 0.0\n",
       "dst_host_count                     255\n",
       "dst_host_srv_count                  10\n",
       "dst_host_same_srv_rate            0.04\n",
       "dst_host_diff_srv_rate            0.06\n",
       "dst_host_same_src_port_rate        0.0\n",
       "dst_host_srv_diff_host_rate        0.0\n",
       "dst_host_serror_rate               0.0\n",
       "dst_host_srv_serror_rate           0.0\n",
       "dst_host_rerror_rate               1.0\n",
       "dst_host_srv_rerror_rate           1.0\n",
       "classification                     Dos\n",
       "Name: 0, dtype: object"
      ]
     },
     "execution_count": 45,
     "metadata": {},
     "output_type": "execute_result"
    }
   ],
   "source": [
    "df_test.iloc[0,:]"
   ]
  },
  {
   "cell_type": "code",
   "execution_count": 29,
   "id": "6ae535fa",
   "metadata": {},
   "outputs": [],
   "source": [
    "# independant and dependant variables\n",
    "X_train = df_train.iloc[:,:-1].values # independent variables\n",
    "y_train = df_train.iloc[:,-1].values # dependent variable"
   ]
  },
  {
   "cell_type": "code",
   "execution_count": 25,
   "id": "a38fe106",
   "metadata": {},
   "outputs": [],
   "source": [
    "# independant and dependant variables\n",
    "X_test = df_test.iloc[:,:-1].values # independent variables\n",
    "y_test = df_test.iloc[:,-1].values # dependent variable"
   ]
  },
  {
   "cell_type": "code",
   "execution_count": 46,
   "id": "2ca62921",
   "metadata": {},
   "outputs": [
    {
     "data": {
      "text/plain": [
       "array([0, 1, 45, 1, 0, 0, 0, 0, 0, 0, 0, 0, 0, 0, 0, 0, 0, 0, 0, 0, 0, 0,\n",
       "       229, 10, 0.0, 0.0, 1.0, 1.0, 0.04, 0.06, 0.0, 255, 10, 0.04, 0.06,\n",
       "       0.0, 0.0, 0.0, 0.0, 1.0, 1.0], dtype=object)"
      ]
     },
     "execution_count": 46,
     "metadata": {},
     "output_type": "execute_result"
    }
   ],
   "source": [
    "X_test[0,:]"
   ]
  },
  {
   "cell_type": "code",
   "execution_count": 30,
   "id": "064ffc52",
   "metadata": {},
   "outputs": [
    {
     "name": "stdout",
     "output_type": "stream",
     "text": [
      "(125964, 41)\n"
     ]
    }
   ],
   "source": [
    "print(X_train.shape)"
   ]
  },
  {
   "cell_type": "code",
   "execution_count": 31,
   "id": "32ee87e1",
   "metadata": {},
   "outputs": [
    {
     "name": "stdout",
     "output_type": "stream",
     "text": [
      "(22541, 41)\n"
     ]
    }
   ],
   "source": [
    "print(X_test.shape)"
   ]
  },
  {
   "cell_type": "code",
   "execution_count": 32,
   "id": "1cf94011",
   "metadata": {},
   "outputs": [],
   "source": [
    "# y_train[y_train != 'normal'] = 'anomaly'"
   ]
  },
  {
   "cell_type": "code",
   "execution_count": 33,
   "id": "e21ab94d",
   "metadata": {},
   "outputs": [
    {
     "name": "stdout",
     "output_type": "stream",
     "text": [
      "['normal' 'normal' 'Dos' ... 'normal' 'Dos' 'normal']\n",
      "Counter({'normal': 67343, 'Dos': 45927, 'Probe': 11647, 'R2L': 995, 'U2R': 52})\n"
     ]
    }
   ],
   "source": [
    "# Check whether the dataset is equally splitted or not\n",
    "from collections import Counter\n",
    "print(y_train) \n",
    "print(Counter(y_train))"
   ]
  },
  {
   "cell_type": "code",
   "execution_count": 34,
   "id": "6f5d58f3",
   "metadata": {},
   "outputs": [],
   "source": [
    "#y_test[y_test != 'normal'] = 'anomaly'"
   ]
  },
  {
   "cell_type": "code",
   "execution_count": 35,
   "id": "b54a8fe8",
   "metadata": {},
   "outputs": [
    {
     "name": "stdout",
     "output_type": "stream",
     "text": [
      "['Dos' 'Dos' 'normal' ... 'Dos' 'normal' 'Probe']\n",
      "Counter({'normal': 9711, 'Dos': 7458, 'R2L': 2754, 'Probe': 2418, 'U2R': 200})\n"
     ]
    }
   ],
   "source": [
    "print(y_test) \n",
    "print(Counter(y_test))"
   ]
  },
  {
   "cell_type": "code",
   "execution_count": 36,
   "id": "d9bea073",
   "metadata": {},
   "outputs": [],
   "source": [
    "# # Encoding indepedant variables\n",
    "# from sklearn.preprocessing import LabelEncoder\n",
    "# le_y = LabelEncoder() # LabelEncoder for 1-d array"
   ]
  },
  {
   "cell_type": "code",
   "execution_count": 37,
   "id": "4e1e76e7",
   "metadata": {},
   "outputs": [],
   "source": [
    "# y_train = le_y.fit_transform(y_train) # does the same what fit() and transform do in one step\n",
    "# print(y_train)"
   ]
  },
  {
   "cell_type": "code",
   "execution_count": 38,
   "id": "5ad73cac",
   "metadata": {},
   "outputs": [],
   "source": [
    "# y_test = le_y.fit_transform(y_test) # does the same what fit() and transform do in one step\n",
    "# print(y_test)"
   ]
  },
  {
   "cell_type": "code",
   "execution_count": 39,
   "id": "1fa9ce26",
   "metadata": {},
   "outputs": [],
   "source": [
    "# Encoding categorical data\n",
    "from sklearn.preprocessing import LabelEncoder\n",
    "X_le = LabelEncoder()\n",
    "X_train[:,1] = X_le.fit_transform(X_train[:,1])\n",
    "X_train[:,2] = X_le.fit_transform(X_train[:,2])\n",
    "X_train[:,3] = X_le.fit_transform(X_train[:,3])"
   ]
  },
  {
   "cell_type": "code",
   "execution_count": 40,
   "id": "62d0cf8d",
   "metadata": {},
   "outputs": [],
   "source": [
    "X_test[:,1] = X_le.fit_transform(X_test[:,1])\n",
    "X_test[:,2] = X_le.fit_transform(X_test[:,2])\n",
    "X_test[:,3] = X_le.fit_transform(X_test[:,3])"
   ]
  },
  {
   "cell_type": "code",
   "execution_count": 41,
   "id": "dc0d0148",
   "metadata": {},
   "outputs": [
    {
     "name": "stdout",
     "output_type": "stream",
     "text": [
      "[[1 20 9]\n",
      " [2 44 9]\n",
      " [1 49 5]\n",
      " ...\n",
      " [1 54 9]\n",
      " [1 30 5]\n",
      " [1 20 9]]\n"
     ]
    }
   ],
   "source": [
    "print(X_train[:,1:4])"
   ]
  },
  {
   "cell_type": "code",
   "execution_count": 42,
   "id": "997fcdfe",
   "metadata": {
    "scrolled": false
   },
   "outputs": [
    {
     "name": "stdout",
     "output_type": "stream",
     "text": [
      "[[1 45 1]\n",
      " [1 45 1]\n",
      " [1 19 9]\n",
      " ...\n",
      " [1 22 9]\n",
      " [2 11 9]\n",
      " [1 52 1]]\n"
     ]
    }
   ],
   "source": [
    "print(X_test[:,1:4])"
   ]
  },
  {
   "cell_type": "code",
   "execution_count": 43,
   "id": "0b8180e5",
   "metadata": {},
   "outputs": [
    {
     "data": {
      "text/plain": [
       "array([0, 1, 45, 1, 0, 0, 0, 0, 0, 0, 0, 0, 0, 0, 0, 0, 0, 0, 0, 0, 0, 0,\n",
       "       229, 10, 0.0, 0.0, 1.0, 1.0, 0.04, 0.06, 0.0, 255, 10, 0.04, 0.06,\n",
       "       0.0, 0.0, 0.0, 0.0, 1.0, 1.0], dtype=object)"
      ]
     },
     "execution_count": 43,
     "metadata": {},
     "output_type": "execute_result"
    }
   ],
   "source": [
    "X_test[0,:]"
   ]
  },
  {
   "cell_type": "code",
   "execution_count": 37,
   "id": "b2662ce3",
   "metadata": {},
   "outputs": [],
   "source": [
    "# Scaling for making close variables values from each other\n",
    "from sklearn.preprocessing import StandardScaler\n",
    "sc_X = StandardScaler()\n",
    "\n",
    "# choose [:, indices] for only scaling numerical data\n",
    "indices = np.r_[0, 4:41]\n",
    "\n",
    "\n",
    "X_train[:, indices] = sc_X.fit_transform(X_train[:, indices]) # apply fit() on X_train and transform fit on X_train \n",
    "X_test[:, indices] = sc_X.transform(X_test[:, indices]) # because we already fit() on x_train we only transform fit on X_test"
   ]
  },
  {
   "cell_type": "code",
   "execution_count": 38,
   "id": "3f47512c",
   "metadata": {
    "scrolled": true
   },
   "outputs": [],
   "source": [
    "# Building SVM classifier\n",
    "from sklearn.svm import SVC\n",
    "classifier =  SVC(C = 10, kernel = 'rbf', gamma = 'auto')"
   ]
  },
  {
   "cell_type": "code",
   "execution_count": 39,
   "id": "0d5a88e0",
   "metadata": {},
   "outputs": [
    {
     "data": {
      "text/plain": [
       "SVC(C=10, gamma='auto')"
      ]
     },
     "execution_count": 39,
     "metadata": {},
     "output_type": "execute_result"
    }
   ],
   "source": [
    "classifier.fit(X_train,y_train)"
   ]
  },
  {
   "cell_type": "code",
   "execution_count": 40,
   "id": "9539fea2",
   "metadata": {},
   "outputs": [],
   "source": [
    "y_pred = classifier.predict(X_test)"
   ]
  },
  {
   "cell_type": "code",
   "execution_count": 41,
   "id": "f559aab4",
   "metadata": {},
   "outputs": [
    {
     "name": "stdout",
     "output_type": "stream",
     "text": [
      "Accuracy of Support Vector Machine: 77.53870724457656\n",
      "\n",
      "              precision    recall  f1-score   support\n",
      "\n",
      "         Dos       0.97      0.84      0.90      7458\n",
      "       Probe       0.84      0.68      0.75      2418\n",
      "         R2L       0.94      0.03      0.07      2754\n",
      "         U2R       0.29      0.01      0.02       200\n",
      "      normal       0.68      0.98      0.80      9711\n",
      "\n",
      "    accuracy                           0.78     22541\n",
      "   macro avg       0.74      0.51      0.51     22541\n",
      "weighted avg       0.82      0.78      0.73     22541\n",
      "\n"
     ]
    }
   ],
   "source": [
    "from sklearn.metrics import accuracy_score, classification_report\n",
    "acc_score = accuracy_score(y_test, y_pred)*100\n",
    "print(\"Accuracy of Support Vector Machine: {}\\n\".format(acc_score))\n",
    "print(classification_report(y_test,y_pred, zero_division = 0))"
   ]
  },
  {
   "cell_type": "code",
   "execution_count": 42,
   "id": "a2c8390a",
   "metadata": {},
   "outputs": [
    {
     "data": {
      "text/plain": [
       "77.53870724457656"
      ]
     },
     "execution_count": 42,
     "metadata": {},
     "output_type": "execute_result"
    }
   ],
   "source": [
    "# np.save('X_train', X_train)\n",
    "acc_score"
   ]
  },
  {
   "cell_type": "code",
   "execution_count": 43,
   "id": "92acd0b6",
   "metadata": {},
   "outputs": [],
   "source": [
    "def stepc(A, Di):\n",
    "    try:\n",
    "        c = 1/(1+ math.exp(10*(A*Di-0.5)))\n",
    "    except Exception as e:\n",
    "        return 0\n",
    "    else:\n",
    "        return c"
   ]
  },
  {
   "cell_type": "code",
   "execution_count": 44,
   "id": "9de93aab",
   "metadata": {},
   "outputs": [],
   "source": [
    "def stepb(A, Di, r):\n",
    "    if stepc(A,Di) >= r:\n",
    "        return 1\n",
    "    else:\n",
    "        return 0"
   ]
  },
  {
   "cell_type": "code",
   "execution_count": 45,
   "id": "cda209ab",
   "metadata": {},
   "outputs": [],
   "source": [
    "def X_d(X, A, Di, rand):\n",
    "    r = rand.random()\n",
    "    if (X + stepb(A, Di, r)) >= 1:\n",
    "        return 1\n",
    "    else:\n",
    "        return 0"
   ]
  },
  {
   "cell_type": "code",
   "execution_count": 46,
   "id": "2b1b26d6",
   "metadata": {},
   "outputs": [],
   "source": [
    "def cross_over(X_d1, X_d2, X_d3, rand):\n",
    "    r = rand.random()\n",
    "    if r < 1/3:\n",
    "        return X_d1\n",
    "    elif r >= 1/3 and r < 2/3:\n",
    "        return X_d2\n",
    "    else:\n",
    "        return X_d3"
   ]
  },
  {
   "cell_type": "code",
   "execution_count": 47,
   "id": "2e6d9319",
   "metadata": {},
   "outputs": [],
   "source": [
    "def objective_function(Selected_Features, X_train, y_train, X_test, y_test):\n",
    "    count = sum(Selected_Features)\n",
    "    if count == 0:\n",
    "        return np.NINF\n",
    "    index = []\n",
    "    scaling_index = []\n",
    "    \n",
    "    for i in range(41):\n",
    "        if Selected_Features[i] == 1:\n",
    "            if i not in [1,2,3]:\n",
    "                scaling_index.append(i)\n",
    "            index.append(i)\n",
    "    indices = np.r_[index]\n",
    "    \n",
    "    scaling_indices = np.r_[scaling_index ]\n",
    "    X_train[:,scaling_indices] = scaling_x(X_train[:,scaling_indices])\n",
    "    X_test[:,scaling_indices] = scaling_x(X_test[:,scaling_indices])\n",
    "    \n",
    "    X_train = X_train[:, indices]\n",
    "    X_test = X_test[:, indices]\n",
    "    \n",
    "    global classifier\n",
    "    classifier.fit(X_train,y_train)\n",
    "    y_pred = classifier.predict(X_test)\n",
    "    acc_score = accuracy_score(y_test, y_pred)*100 \n",
    "    fitness = Fitness(acc_score, count, a = 0.6, b = 0.4)\n",
    "    print(acc_score, fitness)\n",
    "    return fitness"
   ]
  },
  {
   "cell_type": "code",
   "execution_count": 48,
   "id": "ad3f5261",
   "metadata": {},
   "outputs": [],
   "source": [
    "def Fitness(P, NF, a = 0.6, b = 0.4):\n",
    "    \"\"\"P is the classification accuracy/detection rate, NF is the length of the selected feature, where a and b are the parameters\n",
    "    corresponding to the classification accuracy weight and quality of feature selection, a = [0, 1] and b = 1 − a\"\"\"\n",
    "    try: \n",
    "        fitness =  a*P + b*(1/NF)\n",
    "    except ZeroDivisionError as e:\n",
    "        return a*P\n",
    "    else:\n",
    "        return fitness"
   ]
  },
  {
   "cell_type": "code",
   "execution_count": 49,
   "id": "0bb6e858",
   "metadata": {},
   "outputs": [],
   "source": [
    "class wolf:\n",
    "    def __init__(self, fitness, dim,seed, lb, ub):\n",
    "        self.features = [0 for i in range(dim)]\n",
    "        self.rand = random.Random(seed)\n",
    "        self.position = [0.0 for i in range(dim)]\n",
    "        for i in range(dim):\n",
    "            self.position[i] = ((ub - lb) * self.rand.random() + lb)\n",
    "        self.fitness = np.NINF\n"
   ]
  },
  {
   "cell_type": "code",
   "execution_count": 50,
   "id": "1b39969f",
   "metadata": {},
   "outputs": [],
   "source": [
    "def GWO(fitness, dim, N, max_iter, lb, ub):\n",
    "    # initialize the grey wolf population\n",
    "    population = [ wolf(fitness, dim, i, lb, ub) for i in range(N)]\n",
    "    \n",
    "    # read and split the data in X_train, y_train, X_test, y_test\n",
    "    X_train, y_train, X_test, y_test = get_data()\n",
    "    \n",
    "    # initialize b, A and C\n",
    "    rand = random.Random()\n",
    "    b = 2 - 0 * (2/max_iter)\n",
    "    A1, A2, A3 = b * (2 * rand.random() - 1), b * (\n",
    "            2 * rand.random() - 1), b * (2 * rand.random() - 1)\n",
    "    C1, C2, C3 = 2*rand.random(), 2*rand.random(), 2*rand.random()\n",
    "    \n",
    "    # Calculate the fitness of each search agent\n",
    "    population = sorted(population, key = lambda x : x.fitness, reverse=True)\n",
    "    alpha_wolf, beta_wolf, gamma_wolf = copy.copy(population[:3])\n",
    "    \n",
    "    # while iteration : max_iteration\n",
    "    iteration = 1\n",
    "    while iteration < max_iter:\n",
    "        \n",
    "        X1 = [0.0 for i in range(dim)]\n",
    "        X2 = [0.0 for i in range(dim)]\n",
    "        X3 = [0.0 for i in range(dim)]\n",
    "        Xnew = [0.0 for i in range(dim)]\n",
    "\n",
    "        X_d1 = [0 for i in range(dim)]\n",
    "        X_d2 = [0 for i in range(dim)]\n",
    "        X_d3 = [0 for i in range(dim)]\n",
    "        X_dnew = [0 for i in range(dim)]\n",
    "        \n",
    "        # for each search agent\n",
    "        for i in range(N):\n",
    "            for j in range(dim):\n",
    "                # Calculate W1, W2, W3\n",
    "                D_alpha = abs(C1 * alpha_wolf.position[j] - population[i].position[j])\n",
    "                D_beta = abs(C2 *  beta_wolf.position[j] - population[i].position[j])\n",
    "                D_gamma = abs(C3 * gamma_wolf.position[j] - population[i].position[j])\n",
    "                \n",
    "                # grey wolf optmization\n",
    "                # Update the position of the current search agent\n",
    "                X1[j] = alpha_wolf.position[j] - A1 * D_alpha\n",
    "                X2[j] = beta_wolf.position[j] - A2 * D_beta\n",
    "                X3[j] = gamma_wolf.position[j] - A3 * D_gamma\n",
    "                Xnew[j] = (X1[j] + X2[j] + X3[j]) /3.0\n",
    "                if Xnew[j] < lb:\n",
    "                    Xnew[j] = lb\n",
    "                elif Xnew[j] > ub:\n",
    "                    Xnew[j] = ub\n",
    "                                \n",
    "                # binary grey wolf optmization 1, 0\n",
    "                X_d1[j] = X_d(alpha_wolf.position[j], A1, D_alpha, rand)\n",
    "                X_d2[j] = X_d(alpha_wolf.position[j], A2, D_beta, rand)\n",
    "                X_d3[j] = X_d(alpha_wolf.position[j], A3, D_gamma, rand)\n",
    "                X_dnew[j] = cross_over(X_d1[j], X_d2[j], X_d3[j], rand) # 1 or 0\n",
    "            \n",
    "            # Calculate the fitness of all search agent\n",
    "            NF = sum(X_dnew)\n",
    "            \n",
    "            if NF == dim:\n",
    "                fnew = fitness(77.53870724457656, NF, 0.6, 0.4)\n",
    "            else:\n",
    "                print(NF)\n",
    "                fnew = objective_function(X_dnew, X_train, y_train, X_test, y_test)\n",
    "                \n",
    "            if fnew > population[i].fitness:\n",
    "                population[i].position = Xnew\n",
    "                population[i].fitness = fnew\n",
    "                population[i].features = X_dnew\n",
    "        \n",
    "        # Update b, A, and C\n",
    "        b = 2 - iteration * (2/max_iter)\n",
    "        A1, A2, A3 = b * (2 * rand.random() - 1), b * (\n",
    "            2 * rand.random() - 1), b * (2 * rand.random() - 1)\n",
    "        C1, C2, C3 = 2*rand.random(), 2*rand.random(), 2*rand.random()\n",
    "        \n",
    "        # Update alpha_wolf, beta_wolf, gamma_wolf\n",
    "        population = sorted(population, key = lambda x: x.fitness, reverse=True)\n",
    "        alpha_wolf, beta_wolf, gamma_wolf = copy.copy(population[:3])\n",
    "        print(\"Iteration = {} best fitness = {} \".format(str(iteration), alpha_wolf.fitness))\n",
    "        \n",
    "        # iteration = iteration + 1\n",
    "        iteration+=1\n",
    "        \n",
    "    print(\"Iteration = {} best fitness = {} \".format(str(iteration), alpha_wolf.fitness))\n",
    "    return alpha_wolf.features"
   ]
  },
  {
   "attachments": {
    "bGwo.PNG": {
     "image/png": "[encoded data removed]"
    }
   },
   "cell_type": "markdown",
   "id": "776941fa",
   "metadata": {},
   "source": [
    "![bGwo.PNG](attachment:bGwo.PNG)"
   ]
  },
  {
   "cell_type": "code",
   "execution_count": 51,
   "id": "0e360d2f",
   "metadata": {},
   "outputs": [],
   "source": [
    "def perf_measure(y_actual, y_pred, value):\n",
    "    TP = 0\n",
    "    FP = 0\n",
    "    TN = 0\n",
    "    FN = 0\n",
    "\n",
    "    for i in range(len(y_pred)): \n",
    "        if y_actual[i]==y_pred[i]==value:\n",
    "            TP += 1\n",
    "        if y_pred[i]==value and y_actual[i]!=y_pred[i]:\n",
    "            FP += 1\n",
    "        if y_actual[i]==y_pred[i]!=value:\n",
    "            TN += 1\n",
    "        if y_pred[i]!= value and y_actual[i]!=y_pred[i]:\n",
    "            FN += 1\n",
    "\n",
    "    return(TP, FP, TN, FN)"
   ]
  },
  {
   "cell_type": "code",
   "execution_count": 52,
   "id": "7bd9305b",
   "metadata": {},
   "outputs": [],
   "source": [
    "def AAP(AC, run):\n",
    "    \"\"\"AC is the accuracy rate\"\"\"\n",
    "    return sum(AC)/run"
   ]
  },
  {
   "cell_type": "code",
   "execution_count": 53,
   "id": "c90315b7",
   "metadata": {},
   "outputs": [],
   "source": [
    "def ANF(NF, run):\n",
    "    \"\"\"NF is the number of features\"\"\"\n",
    "    return sum(NF)/run"
   ]
  },
  {
   "cell_type": "code",
   "execution_count": 54,
   "id": "9a16403a",
   "metadata": {},
   "outputs": [],
   "source": [
    "def AC(TP, FP, TN, FN):\n",
    "    return (TP+TN)/(TP+FP+TN+FN)"
   ]
  },
  {
   "cell_type": "code",
   "execution_count": 55,
   "id": "2d7de3ad",
   "metadata": {},
   "outputs": [],
   "source": [
    "# Can be used for MBGWO for further work\n",
    "def DR(TP,FN):\n",
    "    return TP/(TP+FN)"
   ]
  },
  {
   "cell_type": "code",
   "execution_count": 56,
   "id": "c37b2a7d",
   "metadata": {},
   "outputs": [],
   "source": [
    "def scaling_x(X):\n",
    "    # Scaling for making close variables values from each other\n",
    "    from sklearn.preprocessing import StandardScaler\n",
    "    sc_X = StandardScaler()\n",
    "    X = sc_X.fit_transform(X)\n",
    "    return X"
   ]
  },
  {
   "cell_type": "code",
   "execution_count": 57,
   "id": "62236e3e",
   "metadata": {},
   "outputs": [],
   "source": [
    "def model_building(X_train, X_test, y_train, FS):\n",
    "    index = []\n",
    "    scaling_index = []\n",
    "    for i in range(41):\n",
    "        if FS[i] == 1:\n",
    "            if i not in [1,2,3]:\n",
    "                scaling_index.append(i)\n",
    "            index.append(i)\n",
    "    indices = np.r_[index]\n",
    "    scaling_indices = np.r_[scaling_index ]\n",
    "    X_train[:,scaling_indices] = scaling_x(X_train[:,scaling_indices])\n",
    "    X_test[:,scaling_indices] = scaling_x(X_test[:,scaling_indices])\n",
    "    Xnew_train = X_train[:, indices]\n",
    "    Xnew_test = X_test[:, indices]\n",
    "    classifier.fit(Xnew_train,y_train)\n",
    "    return classifier, Xnew_train, Xnew_test"
   ]
  },
  {
   "cell_type": "code",
   "execution_count": 58,
   "id": "a7f68cfb",
   "metadata": {},
   "outputs": [],
   "source": [
    "def generate(X_train, y_train, X_test, y_test, FS, my_dict):\n",
    "    classifier, X_train, X_test = model_building(X_train, X_test, y_train,FS)\n",
    "    y_pred = classifier.predict(X_test)\n",
    "    clf_report = classification_report(y_test,y_pred, zero_division = 0)\n",
    "    acc_score = accuracy_score(y_test, y_pred)*100\n",
    "    print(\"Accuracy of Support Vector Machine: {}\\n\".format(acc_score))\n",
    "    print(classification_report(y_test,y_pred, zero_division = 0))\n",
    "    values = ['normal', 'Dos', 'Probe', 'U2R', 'R2L']\n",
    "    for value in values:\n",
    "        TP, FP, TN, FN = perf_measure(y_train, y_pred, value)\n",
    "        Ac = AC(TP, FP, TN, FN)\n",
    "        my_dict[value].append(Ac)\n",
    "    return my_dict , acc_score, clf_report\n",
    "    "
   ]
  },
  {
   "cell_type": "code",
   "execution_count": 59,
   "id": "c765f988",
   "metadata": {},
   "outputs": [],
   "source": [
    "def get_data():\n",
    "    df_train = pd.read_csv('Clean_KDDTrain.csv')\n",
    "    df_test = pd.read_csv('Clean_KDDTest.csv')\n",
    "    # tain data\n",
    "    X_train = df_train.iloc[:,:-1].values # independent variables\n",
    "    y_train = df_train.iloc[:,-1].values # dependent variable\n",
    "    \n",
    "    # test data\n",
    "    X_test = df_test.iloc[:,:-1].values # independent variables\n",
    "    y_test = df_test.iloc[:,-1].values # dependent variable\n",
    "    \n",
    "    # Encoding categorical data\n",
    "    from sklearn.preprocessing import LabelEncoder\n",
    "    X_le = LabelEncoder()\n",
    "    X_train[:,1] = X_le.fit_transform(X_train[:,1])\n",
    "    X_train[:,2] = X_le.fit_transform(X_train[:,2])\n",
    "    X_train[:,3] = X_le.fit_transform(X_train[:,3])\n",
    "\n",
    "    X_test[:,1] = X_le.fit_transform(X_test[:,1])\n",
    "    X_test[:,2] = X_le.fit_transform(X_test[:,2])\n",
    "    X_test[:,3] = X_le.fit_transform(X_test[:,3])\n",
    "    \n",
    "    return X_train, y_train, X_test, y_test"
   ]
  },
  {
   "cell_type": "code",
   "execution_count": 60,
   "id": "779fa67f",
   "metadata": {},
   "outputs": [],
   "source": [
    "def test_result():\n",
    "    global pred_label\n",
    "    pred_label = Label(frame3, text = \"Predicted Attack: Normal\")\n",
    "    pred_label.grid_forget()\n",
    "    pred_label.grid(row = 5, column = 3)"
   ]
  },
  {
   "cell_type": "code",
   "execution_count": 61,
   "id": "1d305e01",
   "metadata": {},
   "outputs": [],
   "source": [
    "def create_testframe(features):    \n",
    "#     global L4\n",
    "#     L4.grid_forget()\n",
    "#     L4.grid(row = 0)\n",
    "    F1, F2, T1, T2 = [],[],[],[]\n",
    "    for i in range(0,4):\n",
    "        F1.append(Label(frame3, text = f\"Feature {i+1}: \"))\n",
    "        F1[i].grid_forget()\n",
    "        F1[i].grid(row = i, column = 0)\n",
    "        F2.append(Label(frame3, text = f\"Feature {i+2}: \"))\n",
    "        F2[i].grid_forget()\n",
    "        F2[i].grid(row = i, column = 4 )\n",
    "        T1.append(Entry(frame3))\n",
    "        T1[i].grid_forget()\n",
    "        T1[i].grid(row = i, column = 2, padx =5, pady=5)\n",
    "        T2.append(Entry(frame3))\n",
    "        T2[i].grid_forget()\n",
    "        T2[i].grid(row = i, column = 5, padx =5, pady=5)\n",
    "    btn2 = Button(frame3 , text = 'Submit', command = test_result, padx = 20, pady =10)\n",
    "    btn2.grid_forget()\n",
    "    btn2.grid(row =4, column=3,padx = 30, pady= 20)\n",
    "    \n",
    "    \n",
    "    "
   ]
  },
  {
   "cell_type": "code",
   "execution_count": 62,
   "id": "441c995d",
   "metadata": {},
   "outputs": [],
   "source": [
    "def get_input():\n",
    "    try: \n",
    "        run  =  int(E1.get())\n",
    "        N = int(E2.get())\n",
    "        max_iter = int(E3.get())\n",
    "    except Exception as e:\n",
    "        print(e)\n",
    "    else:\n",
    "        return run, N, max_iter"
   ]
  },
  {
   "cell_type": "code",
   "execution_count": 63,
   "id": "a9bdcf49",
   "metadata": {},
   "outputs": [],
   "source": [
    "def clf_table(clf_report):\n",
    "    my_tree = ttk.Treeview(frame2, show = 'headings')\n",
    "    my_tree['columns'] = ('name', 'precision', 'recall', 'f1-score', 'support')\n",
    "    my_tree.pack_forget()\n",
    "    my_tree.pack()\n",
    "\n",
    "    my_tree.column('name', width = 80, minwidth = 60)\n",
    "    my_tree.column('precision', width = 80, minwidth = 60)\n",
    "    my_tree.column('recall', width = 80, minwidth = 60)\n",
    "    my_tree.column('f1-score', width = 80, minwidth = 60)\n",
    "    my_tree.column('support', width = 80, minwidth = 60)\n",
    "\n",
    "    my_tree.heading('name', text ='Name')\n",
    "    my_tree.heading('precision', text ='Precision')\n",
    "    my_tree.heading('recall', text ='Recall')\n",
    "    my_tree.heading('f1-score', text ='F1-score')\n",
    "    my_tree.heading('support', text ='Support')   \n",
    "    \n",
    "    my_list = clf_report.split()\n",
    "    for i in range(4,29,5):\n",
    "        my_tree.insert('','end', values = my_list[i:i+5])\n",
    "    my_tree.insert('','end', values = ' ')\n",
    "    my_tree.insert('','end', values = (my_list[29], ' ', ' ',my_list[30],my_list[31]))\n",
    "    for i in range(32,44,6):\n",
    "        my_list[i+1] = \" \".join(my_list[i:i+2])\n",
    "        my_tree.insert('','end', values = my_list[i+1:i+6])"
   ]
  },
  {
   "cell_type": "code",
   "execution_count": 64,
   "id": "9563ac10",
   "metadata": {},
   "outputs": [],
   "source": [
    "# Function of what happens when you press btn1\n",
    "def btn1Action():\n",
    "    global L3\n",
    "    L3.pack_forget()\n",
    "    L3.pack()\n",
    "    \n",
    "    # get data from txtfiled\n",
    "    dim, lb, ub = 41, 0, 1\n",
    "    fitness = Fitness\n",
    "    run, N, max_iter = get_input()\n",
    "    my_dict = {\"normal\":[],\"Dos\":[],\"Probe\":[], \"U2R\":[],\"R2L\":[]}\n",
    "    fs_list, fs_count, scores = [], [], []\n",
    "    best_score, best_features, clf_res = 0, [], ''\n",
    "    for i in range(run):\n",
    "        FS = GWO(fitness, dim, N, max_iter, lb, ub)\n",
    "        fs_list.append(FS)\n",
    "        fs_count.append(sum(FS))\n",
    "        X_train, y_train, X_test, y_test = get_data()\n",
    "        my_dict, score, clf_report = generate(X_train, y_train, X_test, y_test, FS, my_dict)\n",
    "        if score > best_score:\n",
    "            best_score = score\n",
    "            best_features = FS\n",
    "            clf_res = clf_report\n",
    "        elif Fitness(score, sum(FS)) > Fitness(best_score, sum(best_features)):\n",
    "            best_score = score\n",
    "            best_features = FS\n",
    "            clf_res = clf_report\n",
    "        scores.append(score)\n",
    "    \n",
    "    res0  = Label(frame2, text = f\"Best Accuarcy: {best_score}\")\n",
    "    res0.pack_forget()\n",
    "    res0.pack(pady = 1)\n",
    "    res1  = Label(frame2, text = f\"Best Feature Count: {sum(best_features)}\")\n",
    "    res1.pack_forget()\n",
    "    res1.pack(pady = 1)\n",
    "    res2  = Label(frame2, text = f\"{best_features}\")\n",
    "    res2.pack_forget()\n",
    "    res2.pack(pady = 1)\n",
    "    res3 = Label(frame2, text = f\"The average accuracy performance: {AAP(scores,run)}\")\n",
    "    res3.pack_forget()\n",
    "    res3.pack(pady = 1)\n",
    "    res4 = Label(frame2, text = f\"The average of the subset selected features: {int(ANF(fs_count, run))}\")\n",
    "    res4.pack_forget()\n",
    "    res4.pack(pady = 1)\n",
    "    \n",
    "    clf_table(clf_res)\n",
    "   \n",
    "    # create_testframe(best_features)"
   ]
  },
  {
   "cell_type": "code",
   "execution_count": 65,
   "id": "f64a6234",
   "metadata": {
    "scrolled": true
   },
   "outputs": [],
   "source": [
    "root = Tk()\n",
    "root.title('Gray Wolf Optimizer')\n",
    "root.minsize(755,555)\n",
    "# root.iconbitmap(\"path_to_icon\")\n",
    "\n",
    "frame1 = LabelFrame(root, text = \"Initialization \", padx= 50, pady=20)\n",
    "frame1.pack(pady = 10)\n",
    "\n",
    "L0 = Label(frame1, text = \"Intrusion Detection System using GWO\")\n",
    "L0.pack()\n",
    "\n",
    "nested_frame = LabelFrame(frame1, text = \"Input Fields \", padx= 50 , pady = 10)\n",
    "nested_frame.pack()\n",
    "###################################\n",
    "L1 = Label(nested_frame, text = \"Enter number of runs: \", anchor = W)\n",
    "L1.grid(row = 0, column = 0 )\n",
    "\n",
    "E1 = Entry(nested_frame)\n",
    "E1.grid(row = 0, column = 1)\n",
    "E1.insert(0, \"1\")\n",
    "\n",
    "L2 = Label(nested_frame, text = \"Enter number of population: \", anchor = W)\n",
    "L2.grid(row = 1, column = 0, pady = 5)\n",
    "\n",
    "E2 = Entry(nested_frame)\n",
    "E2.grid(row = 1, column = 1, pady = 5)\n",
    "E2.insert(0, \"12\")\n",
    "\n",
    "L3 = Label(nested_frame, text = \"Enter number of iterations: \", anchor = W)\n",
    "L3.grid(row = 2, column = 0)\n",
    "\n",
    "E3 = Entry(nested_frame)\n",
    "E3.grid(row = 2, column = 1)\n",
    "E3.insert(0, \"20\")\n",
    "###################################\n",
    "btn1 = Button(frame1 , text = 'Generate', command = btn1Action, padx = 10, pady =10)\n",
    "btn1.pack(pady = 10)\n",
    "\n",
    "###################################################################\n",
    "frame2 = LabelFrame(root, text = \"Results \", padx = 50,pady = 10)\n",
    "frame2.pack(pady = 10)\n",
    "L3 = Label(frame2, text = \"HERE IS THE RESULTS\")\n",
    "\n",
    "##################################################################\n",
    "frame3 = LabelFrame(root, text = \"Test The IDS \", padx = 50,pady = 10)\n",
    "frame3.pack(pady = 10)\n",
    "# L4 = Label(frame3, text = \"The IDS model using GWO-SVM\")\n",
    "\n",
    "\n",
    "\n",
    "\n",
    "\n",
    "# Run The GUI\n",
    "root.mainloop()"
   ]
  },
  {
   "cell_type": "code",
   "execution_count": 66,
   "id": "47362576",
   "metadata": {},
   "outputs": [],
   "source": [
    "# N = 12\n",
    "# dim = 41\n",
    "# max_iter = 20\n",
    "# lb = 0\n",
    "# ub = 1\n",
    "# # fitness = fitness_sphere\n",
    "# fitness = Fitness\n",
    "# run = 1\n",
    "# my_dict = {\"normal\":[],\"Dos\":[],\"Probe\":[], \"U2R\":[],\"R2L\":[]}\n",
    "# fs_list = []\n",
    "# scores = []\n",
    "# for i in range(run):\n",
    "#     FS = GWO(fitness, dim, N, max_iter, lb, ub)\n",
    "#     print(sum(FS))\n",
    "#     print(FS)\n",
    "#     fs_list.append(sum(FS))\n",
    "#     my_dict, acc_score = generate(X, y_train, x_test, y_test, FS, my_dict)\n",
    "#     scores.append(acc_score)"
   ]
  },
  {
   "cell_type": "markdown",
   "id": "02e4ab43",
   "metadata": {},
   "source": [
    "## Other Feature Selection Methods\n",
    "**You can try them by your self and check, it is bonus for you**"
   ]
  },
  {
   "cell_type": "code",
   "execution_count": 67,
   "id": "b1f0ad81",
   "metadata": {},
   "outputs": [],
   "source": [
    "# Feature Selection\n",
    "from sklearn.feature_selection import SelectPercentile, GenericUnivariateSelect, SelectKBest, SelectFromModel\n",
    "from sklearn.feature_selection import chi2, f_classif\n",
    "\n",
    "fsp = SelectPercentile(score_func = chi2, percentile = 25)\n",
    "fsgu = GenericUnivariateSelect(score_func = chi2, mode = 'k_best', param = 10)\n",
    "fskb = SelectKBest(score_func = chi2, k = 10)"
   ]
  },
  {
   "cell_type": "code",
   "execution_count": 68,
   "id": "479f73cd",
   "metadata": {},
   "outputs": [],
   "source": [
    "# independant and dependant variables\n",
    "X = df_train.iloc[:,:-1].values # independent variables\n",
    "y = df_train.iloc[:,-1].values # dependent variable\n",
    "X[:,1] = X_le.fit_transform(X[:,1])\n",
    "X[:,2] = X_le.fit_transform(X[:,2])\n",
    "X[:,3] = X_le.fit_transform(X[:,3])"
   ]
  },
  {
   "cell_type": "code",
   "execution_count": 69,
   "id": "144ca611",
   "metadata": {},
   "outputs": [
    {
     "name": "stdout",
     "output_type": "stream",
     "text": [
      "Selected Feature are: [ True False  True  True  True  True False False False  True False False\n",
      " False False False False False False False False False False  True  True\n",
      " False False False False False False False  True  True False False False\n",
      " False False False False False]\n"
     ]
    }
   ],
   "source": [
    "X_p  = fsp.fit_transform(X, y)\n",
    "print('Selected Feature are: {}'.format(fsp.get_support()))"
   ]
  },
  {
   "cell_type": "code",
   "execution_count": 70,
   "id": "1d946075",
   "metadata": {},
   "outputs": [
    {
     "name": "stdout",
     "output_type": "stream",
     "text": [
      "Selected Feature are: [ True False  True  True  True  True False False False  True False False\n",
      " False False False False False False False False False False  True  True\n",
      " False False False False False False False  True  True False False False\n",
      " False False False False False]\n"
     ]
    }
   ],
   "source": [
    "X_gu = fsgu.fit_transform(X, y)\n",
    "print('Selected Feature are: {}'.format(fsgu.get_support()))"
   ]
  },
  {
   "cell_type": "code",
   "execution_count": 71,
   "id": "067e608e",
   "metadata": {},
   "outputs": [
    {
     "name": "stdout",
     "output_type": "stream",
     "text": [
      "[ True  True  True  True  True  True  True  True  True  True  True  True\n",
      "  True  True  True  True  True  True  True  True  True  True  True  True\n",
      "  True  True  True  True  True  True  True  True  True  True  True  True\n",
      "  True  True  True  True  True]\n"
     ]
    }
   ],
   "source": [
    "print(fsgu.get_support() == fsp.get_support())"
   ]
  },
  {
   "cell_type": "code",
   "execution_count": 72,
   "id": "7671761e",
   "metadata": {
    "scrolled": true
   },
   "outputs": [
    {
     "name": "stdout",
     "output_type": "stream",
     "text": [
      "Selected Feature are: [ True False  True  True  True  True False False False  True False False\n",
      " False False False False False False False False False False  True  True\n",
      " False False False False False False False  True  True False False False\n",
      " False False False False False]\n"
     ]
    }
   ],
   "source": [
    "X_kb = fskb.fit_transform(X, y)\n",
    "print('Selected Feature are: {}'.format(fskb.get_support()))"
   ]
  },
  {
   "cell_type": "code",
   "execution_count": 73,
   "id": "70a2c5dd",
   "metadata": {},
   "outputs": [
    {
     "name": "stdout",
     "output_type": "stream",
     "text": [
      "[ True  True  True  True  True  True  True  True  True  True  True  True\n",
      "  True  True  True  True  True  True  True  True  True  True  True  True\n",
      "  True  True  True  True  True  True  True  True  True  True  True  True\n",
      "  True  True  True  True  True]\n"
     ]
    }
   ],
   "source": [
    "print(fsgu.get_support() == fskb.get_support())"
   ]
  },
  {
   "cell_type": "code",
   "execution_count": 74,
   "id": "1651631a",
   "metadata": {},
   "outputs": [],
   "source": [
    "# fs_from_model = SelectFromModel(estimator = classifier, max_features = 15 )\n",
    "# X_fm=fs_from_model.fit_transform(X,y)"
   ]
  },
  {
   "cell_type": "code",
   "execution_count": 75,
   "id": "6994b7e9",
   "metadata": {},
   "outputs": [],
   "source": [
    "# (X.shape, X_fm.shape)"
   ]
  }
 ],
 "metadata": {
  "kernelspec": {
   "display_name": "Python 3 (ipykernel)",
   "language": "python",
   "name": "python3"
  },
  "language_info": {
   "codemirror_mode": {
    "name": "ipython",
    "version": 3
   },
   "file_extension": ".py",
   "mimetype": "text/x-python",
   "name": "python",
   "nbconvert_exporter": "python",
   "pygments_lexer": "ipython3",
   "version": "3.8.5"
  }
 },
 "nbformat": 4,
 "nbformat_minor": 5
}
