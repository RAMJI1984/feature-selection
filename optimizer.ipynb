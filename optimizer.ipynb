{
 "cells": [
  {
   "cell_type": "code",
   "execution_count": 1,
   "id": "a0bf0098",
   "metadata": {},
   "outputs": [],
   "source": [
    "import GWO as gwo\n",
    "import random\n",
    "import math    \n",
    "import copy    \n",
    "import sys    \n",
    "from tkinter import *\n",
    "from PIL import Image, ImageTk\n",
    "import numpy as np\n",
    "import pandas as pd"
   ]
  },
  {
   "cell_type": "code",
   "execution_count": 2,
   "id": "537c7030",
   "metadata": {},
   "outputs": [
    {
     "name": "stdout",
     "output_type": "stream",
     "text": [
      "\n",
      "Begin grey wolf optimization on rastrigin function\n",
      "\n",
      "Goal is to minimize Rastrigin's function in 41 variables\n",
      "Function has known min = 0.0 at (0, 0, 0, 0, 0, 0, 0, 0, 0, 0, 0, 0, 0, 0, 0, 0, 0, 0, 0, 0, 0, 0, 0, 0, 0, 0, 0, 0, 0, 0, 0, 0, 0, 0, 0, 0, 0, 0, 0, 0, 0)\n"
     ]
    }
   ],
   "source": [
    "print(\"\\nBegin grey wolf optimization on rastrigin function\\n\")\n",
    "dim = 41\n",
    "fitness = gwo.fitness_rastrigin\n",
    "print(\"Goal is to minimize Rastrigin's function in \" + str(dim) + \" variables\")\n",
    "print(\"Function has known min = 0.0 at (\", end=\"\")\n",
    "for i in range(dim-1):\n",
    "  print(\"0, \", end=\"\")\n",
    "print(\"0)\")"
   ]
  },
  {
   "cell_type": "code",
   "execution_count": 3,
   "id": "41acd2b0",
   "metadata": {},
   "outputs": [
    {
     "name": "stdout",
     "output_type": "stream",
     "text": [
      "Setting num_particles = 5\n",
      "Setting max_iter    = 100\n",
      "\n",
      "Starting GWO algorithm\n",
      "\n"
     ]
    }
   ],
   "source": [
    "num_particles = 5\n",
    "max_iter = 100\n",
    " \n",
    "print(\"Setting num_particles = \" + str(num_particles))\n",
    "print(\"Setting max_iter    = \" + str(max_iter))\n",
    "print(\"\\nStarting GWO algorithm\\n\")"
   ]
  },
  {
   "cell_type": "code",
   "execution_count": 16,
   "id": "457b2908",
   "metadata": {},
   "outputs": [
    {
     "name": "stdout",
     "output_type": "stream",
     "text": [
      "Iter = 10 best fitness = 70.072\n",
      "Iter = 20 best fitness = 0.707\n",
      "Iter = 30 best fitness = 0.042\n",
      "Iter = 40 best fitness = 0.011\n",
      "Iter = 50 best fitness = 0.001\n",
      "Iter = 60 best fitness = 0.001\n",
      "Iter = 70 best fitness = 0.000\n",
      "Iter = 80 best fitness = 0.000\n",
      "Iter = 90 best fitness = 0.000\n"
     ]
    }
   ],
   "source": [
    "best_position = gwo.gwo(fitness, max_iter, num_particles, dim, -10.0, 10.0)"
   ]
  },
  {
   "cell_type": "code",
   "execution_count": 5,
   "id": "012ee7cd",
   "metadata": {},
   "outputs": [
    {
     "name": "stdout",
     "output_type": "stream",
     "text": [
      "\n",
      "GWO completed\n",
      "\n",
      "\n",
      "Best solution found:\n",
      "['0.000282', '-0.001493', '0.003735', '0.001252', '-0.007176', '0.001938', '0.004574', '0.000060', '0.001010', '-0.001257', '0.000140', '0.001282', '0.000089', '-0.020077', '-0.008018', '0.006689', '0.015075', '0.001997', '0.001129', '-0.021231', '-0.023999', '-0.000324', '-0.000330', '-0.007389', '-0.006359', '-0.008337', '0.000047', '0.001376', '-0.000053', '0.000117', '-0.006134', '0.000137', '-0.007339', '0.023502', '0.004591', '-0.003098', '0.026316', '0.005145', '0.006491', '0.010187', '0.000101']\n",
      "fitness of best solution = 0.708376\n",
      "\n",
      "End GWO for rastrigin\n",
      "\n"
     ]
    }
   ],
   "source": [
    "print(\"\\nGWO completed\\n\")\n",
    "print(\"\\nBest solution found:\")\n",
    "print([\"%.6f\"%best_position[k] for k in range(dim)])\n",
    "err = fitness(best_position)\n",
    "print(\"fitness of best solution = %.6f\" % err)\n",
    " \n",
    "print(\"\\nEnd GWO for rastrigin\\n\")"
   ]
  },
  {
   "cell_type": "code",
   "execution_count": 6,
   "id": "04b8d05d",
   "metadata": {},
   "outputs": [
    {
     "name": "stdout",
     "output_type": "stream",
     "text": [
      "\n",
      "Begin grey wolf optimization on sphere function\n",
      "\n",
      "Goal is to minimize sphere function in 42 variables\n",
      "Function has known min = 0.0 at (0, 0, 0, 0, 0, 0, 0, 0, 0, 0, 0, 0, 0, 0, 0, 0, 0, 0, 0, 0, 0, 0, 0, 0, 0, 0, 0, 0, 0, 0, 0, 0, 0, 0, 0, 0, 0, 0, 0, 0, 0, 0)\n"
     ]
    }
   ],
   "source": [
    "# Driver code for Sphere function\n",
    "print(\"\\nBegin grey wolf optimization on sphere function\\n\")\n",
    "dim = 42\n",
    "fitness = gwo.fitness_sphere\n",
    "print(\"Goal is to minimize sphere function in \" + str(dim) + \" variables\")\n",
    "print(\"Function has known min = 0.0 at (\", end=\"\")\n",
    "for i in range(dim-1):\n",
    "  print(\"0, \", end=\"\")\n",
    "print(\"0)\")"
   ]
  },
  {
   "cell_type": "code",
   "execution_count": 7,
   "id": "7aeb2d50",
   "metadata": {},
   "outputs": [
    {
     "name": "stdout",
     "output_type": "stream",
     "text": [
      "Setting num_particles = 5\n",
      "Setting max_iter    = 100\n",
      "\n",
      "Starting GWO algorithm\n",
      "\n"
     ]
    }
   ],
   "source": [
    "num_particles = 5\n",
    "max_iter = 100\n",
    " \n",
    "print(\"Setting num_particles = \" + str(num_particles))\n",
    "print(\"Setting max_iter    = \" + str(max_iter))\n",
    "print(\"\\nStarting GWO algorithm\\n\")"
   ]
  },
  {
   "cell_type": "code",
   "execution_count": 14,
   "id": "1972ffea",
   "metadata": {},
   "outputs": [
    {
     "name": "stdout",
     "output_type": "stream",
     "text": [
      "Iter = 10 best fitness = 0.579\n",
      "Iter = 20 best fitness = 0.091\n",
      "Iter = 30 best fitness = 0.004\n",
      "Iter = 40 best fitness = 0.001\n",
      "Iter = 50 best fitness = 0.000\n",
      "Iter = 60 best fitness = 0.000\n",
      "Iter = 70 best fitness = 0.000\n",
      "Iter = 80 best fitness = 0.000\n",
      "Iter = 90 best fitness = 0.000\n"
     ]
    }
   ],
   "source": [
    "best_position = gwo.gwo(fitness, max_iter, num_particles, dim, 0, 1)"
   ]
  },
  {
   "cell_type": "code",
   "execution_count": 12,
   "id": "37884131",
   "metadata": {},
   "outputs": [
    {
     "name": "stdout",
     "output_type": "stream",
     "text": [
      "\n",
      "GWO completed\n",
      "\n",
      "\n",
      "Best solution found:\n",
      "['-0.000938', '-0.000968', '-0.000386', '0.000172', '-0.000444', '-0.000008', '0.000268', '-0.000547', '0.000536', '-0.000277', '0.000685', '0.000044', '0.000584', '0.000193', '0.000359', '0.000462', '0.001087', '0.000056', '-0.000351', '0.000492', '-0.000252', '-0.001431', '-0.000058', '-0.000096', '0.000186', '-0.002443', '0.000641', '0.000503', '-0.000180', '-0.000030', '0.000213', '0.000319', '0.000370', '0.001408', '0.001012', '0.000212', '0.000964', '0.000385', '0.000368', '-0.000196', '0.000864', '0.001264']\n",
      "fitness of best solution = 0.000021\n",
      "\n",
      "End GWO for sphere\n",
      "\n"
     ]
    }
   ],
   "source": [
    "print(\"\\nGWO completed\\n\")\n",
    "print(\"\\nBest solution found:\")\n",
    "print([\"%.6f\"%best_position[k] for k in range(dim)])\n",
    "err = fitness(best_position)\n",
    "print(\"fitness of best solution = %.6f\" % err)\n",
    " \n",
    "print(\"\\nEnd GWO for sphere\\n\")"
   ]
  },
  {
   "cell_type": "code",
   "execution_count": 10,
   "id": "9821b4aa",
   "metadata": {},
   "outputs": [
    {
     "ename": "NameError",
     "evalue": "name 'btn1Action' is not defined",
     "output_type": "error",
     "traceback": [
      "\u001b[1;31m---------------------------------------------------------------------------\u001b[0m",
      "\u001b[1;31mNameError\u001b[0m                                 Traceback (most recent call last)",
      "Input \u001b[1;32mIn [10]\u001b[0m, in \u001b[0;36m<cell line: 33>\u001b[1;34m()\u001b[0m\n\u001b[0;32m     17\u001b[0m E1 \u001b[38;5;241m=\u001b[39m Entry(frame1)\n\u001b[0;32m     18\u001b[0m \u001b[38;5;66;03m# E1.grid(row = 1, column = 1)\u001b[39;00m\n\u001b[0;32m     19\u001b[0m \u001b[38;5;66;03m# E1.pack( pady = 10)\u001b[39;00m\n\u001b[0;32m     20\u001b[0m \u001b[38;5;66;03m# E1.insert(0, \"Hi\")\u001b[39;00m\n\u001b[1;32m   (...)\u001b[0m\n\u001b[0;32m     31\u001b[0m \n\u001b[0;32m     32\u001b[0m \u001b[38;5;66;03m# Create Button\u001b[39;00m\n\u001b[1;32m---> 33\u001b[0m btn1 \u001b[38;5;241m=\u001b[39m Button(frame1 , text \u001b[38;5;241m=\u001b[39m \u001b[38;5;124m'\u001b[39m\u001b[38;5;124mGenerate\u001b[39m\u001b[38;5;124m'\u001b[39m, command \u001b[38;5;241m=\u001b[39m \u001b[43mbtn1Action\u001b[49m, padx \u001b[38;5;241m=\u001b[39m \u001b[38;5;241m10\u001b[39m, pady \u001b[38;5;241m=\u001b[39m\u001b[38;5;241m10\u001b[39m)\n\u001b[0;32m     34\u001b[0m \u001b[38;5;66;03m# btn1.grid(row = 1, column = 2)\u001b[39;00m\n\u001b[0;32m     35\u001b[0m btn1\u001b[38;5;241m.\u001b[39mpack(pady \u001b[38;5;241m=\u001b[39m \u001b[38;5;241m10\u001b[39m )\n",
      "\u001b[1;31mNameError\u001b[0m: name 'btn1Action' is not defined"
     ]
    }
   ],
   "source": [
    "root = Tk()\n",
    "root.title('Gray Wolf Optimizer')\n",
    "root.minsize(755,555)\n",
    "# root.iconbitmap(\"path_to_icon\")\n",
    "\n",
    "frame1 = LabelFrame(root, text = \"Initialization \", padx= 50, pady=20)\n",
    "frame1.pack(pady = 10)\n",
    "# Create Label\n",
    "L1 = Label(frame1, text = \"Intrusion Detection System using GWO\")\n",
    "# L1.grid(row = 1, column = 0)\n",
    "L1.pack()\n",
    "# L2 = Label(frame1, text = \"Enter Your Value: \")\n",
    "# L2.pack()\n",
    "\n",
    "\n",
    "# Create Text Filed\n",
    "E1 = Entry(frame1)\n",
    "# E1.grid(row = 1, column = 1)\n",
    "# E1.pack( pady = 10)\n",
    "# E1.insert(0, \"Hi\")\n",
    "\n",
    "# # Create image\n",
    "# filename = \"my_pic.jpg\"\n",
    "# im = Image.open(filename)\n",
    "# ph = ImageTk.PhotoImage(im)\n",
    "# image = Label(root, image=ph)\n",
    "# image.image=ph\n",
    "# #  image.grid(row = 0, column = 0)\n",
    "# image.pack()\n",
    "\n",
    "\n",
    "# Create Button\n",
    "btn1 = Button(frame1 , text = 'Generate', command = btn1Action, padx = 10, pady =10)\n",
    "# btn1.grid(row = 1, column = 2)\n",
    "btn1.pack(pady = 10 )\n",
    "\n",
    "frame2 = LabelFrame(root, text = \"Results \", padx = 50,pady = 10)\n",
    "frame2.pack(pady = 10)\n",
    "L3 = Label(frame2, text = \"HERE IS THE RESULTS\")\n",
    "e1_data  =  E1.get()\n",
    "title = e1_data.title()\n",
    "\n",
    "res_label = Label(frame2,  text = title)\n",
    "\n",
    "frame3 = LabelFrame(root, text = \"Test The IDS \", padx = 50,pady = 10)\n",
    "frame3.pack(pady = 10)\n",
    "# L4 = Label(frame3, text = \"The IDS model using GWO-SVM\")\n",
    "\n",
    "\n",
    "\n",
    "\n",
    "\n",
    "# Run The GUI\n",
    "root.mainloop()"
   ]
  },
  {
   "cell_type": "code",
   "execution_count": null,
   "id": "25acd42c",
   "metadata": {},
   "outputs": [],
   "source": [
    "# Function of what happens when you press btn1\n",
    "def btn1Action():\n",
    "    # get data from txtfiled1\n",
    "    global res_label\n",
    "    global L3\n",
    "    L3.pack_forget()\n",
    "    L3.pack()\n",
    "    res_label.pack_forget()\n",
    "    e1_data  =  \"hi\"\n",
    "    title = e1_data.title()\n",
    "    res_label = Label(frame2,  text = title)\n",
    "    res_label.pack()\n",
    "    create_testframe()\n",
    "    \n"
   ]
  },
  {
   "cell_type": "code",
   "execution_count": null,
   "id": "17407497",
   "metadata": {},
   "outputs": [],
   "source": [
    "def create_testframe():\n",
    "    \n",
    "#     global L4\n",
    "#     L4.grid_forget()\n",
    "#     L4.grid(row = 0)\n",
    "    F1, F2, T1, T2 = [],[],[],[]\n",
    "    for i in range(0,4):\n",
    "        F1.append(Label(frame3, text = f\"Feature {i+1}: \"))\n",
    "        F1[i].grid_forget()\n",
    "        F1[i].grid(row = i, column = 0)\n",
    "        F2.append(Label(frame3, text = f\"Feature {i+2}: \"))\n",
    "        F2[i].grid_forget()\n",
    "        F2[i].grid(row = i, column = 4 )\n",
    "        T1.append(Entry(frame3))\n",
    "        T1[i].grid_forget()\n",
    "        T1[i].grid(row = i, column = 2, padx =5, pady=5)\n",
    "        T2.append(Entry(frame3))\n",
    "        T2[i].grid_forget()\n",
    "        T2[i].grid(row = i, column = 5, padx =5, pady=5)\n",
    "    btn2 = Button(frame3 , text = 'Submit', command = test_result, padx = 20, pady =10)\n",
    "    btn2.grid_forget()\n",
    "    btn2.grid(row =4, column=3,padx = 30, pady= 20)\n",
    "    \n",
    "    \n",
    "    "
   ]
  },
  {
   "cell_type": "code",
   "execution_count": null,
   "id": "bf36af12",
   "metadata": {},
   "outputs": [],
   "source": [
    "def test_result():\n",
    "    global pred_label\n",
    "    pred_label = Label(frame3, text = \"Predicted Attack: Normal\")\n",
    "    pred_label.grid_forget()\n",
    "    pred_label.grid(row = 5, column = 3)"
   ]
  },
  {
   "cell_type": "code",
   "execution_count": null,
   "id": "5d880fc1",
   "metadata": {},
   "outputs": [],
   "source": [
    "df = pd.read_csv('Clean_KDDTrain.csv')\n",
    "df.drop( df.columns[0], axis = 1, inplace =True)\n",
    "arr= df.to_numpy()\n",
    "arr"
   ]
  },
  {
   "cell_type": "code",
   "execution_count": null,
   "id": "21db4b77",
   "metadata": {},
   "outputs": [],
   "source": []
  },
  {
   "cell_type": "code",
   "execution_count": null,
   "id": "347aed14",
   "metadata": {},
   "outputs": [],
   "source": [
    "N = 1000\n",
    "# independant and dependant variables\n",
    "X = df.iloc[:N,:-1].values # independent variables\n",
    "y = df.iloc[:N,-1].values # dependent variable\n",
    "print(X.shape)"
   ]
  },
  {
   "cell_type": "code",
   "execution_count": null,
   "id": "ed9bd33c",
   "metadata": {},
   "outputs": [],
   "source": [
    "D = 41\n",
    "max_iter = 100\n"
   ]
  }
 ],
 "metadata": {
  "kernelspec": {
   "display_name": "Python 3 (ipykernel)",
   "language": "python",
   "name": "python3"
  },
  "language_info": {
   "codemirror_mode": {
    "name": "ipython",
    "version": 3
   },
   "file_extension": ".py",
   "mimetype": "text/x-python",
   "name": "python",
   "nbconvert_exporter": "python",
   "pygments_lexer": "ipython3",
   "version": "3.8.5"
  }
 },
 "nbformat": 4,
 "nbformat_minor": 5
}
